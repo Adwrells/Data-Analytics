{
 "cells": [
  {
   "cell_type": "markdown",
   "id": "f63531f5",
   "metadata": {},
   "source": [
    "<h1><b>2024USElectionSentimentX.csv<b></h1>"
   ]
  },
  {
   "cell_type": "code",
   "execution_count": 16,
   "id": "7bce5225",
   "metadata": {},
   "outputs": [],
   "source": [
    "import pandas as pd\n",
    "import numpy as np\n",
    "import matplotlib.pyplot as plt\n",
    "import seaborn as sns\n"
   ]
  },
  {
   "cell_type": "code",
   "execution_count": 17,
   "id": "0bb2ab49",
   "metadata": {},
   "outputs": [],
   "source": [
    "df1 = pd.read_csv('2024USElectionSentimentX.csv')"
   ]
  },
  {
   "cell_type": "code",
   "execution_count": 18,
   "id": "393fe2bd",
   "metadata": {},
   "outputs": [
    {
     "data": {
      "text/html": [
       "<div>\n",
       "<style scoped>\n",
       "    .dataframe tbody tr th:only-of-type {\n",
       "        vertical-align: middle;\n",
       "    }\n",
       "\n",
       "    .dataframe tbody tr th {\n",
       "        vertical-align: top;\n",
       "    }\n",
       "\n",
       "    .dataframe thead th {\n",
       "        text-align: right;\n",
       "    }\n",
       "</style>\n",
       "<table border=\"1\" class=\"dataframe\">\n",
       "  <thead>\n",
       "    <tr style=\"text-align: right;\">\n",
       "      <th></th>\n",
       "      <th>tweet_id</th>\n",
       "      <th>user_handle</th>\n",
       "      <th>timestamp</th>\n",
       "      <th>tweet_text</th>\n",
       "      <th>candidate</th>\n",
       "      <th>party</th>\n",
       "      <th>retweets</th>\n",
       "      <th>likes</th>\n",
       "      <th>sentiment</th>\n",
       "    </tr>\n",
       "  </thead>\n",
       "  <tbody>\n",
       "    <tr>\n",
       "      <th>0</th>\n",
       "      <td>501</td>\n",
       "      <td>@user1068</td>\n",
       "      <td>2025-02-11 08:30:10</td>\n",
       "      <td>Kamala Harris's new policy on education reform...</td>\n",
       "      <td>Kamala Harris</td>\n",
       "      <td>Democratic Party</td>\n",
       "      <td>85</td>\n",
       "      <td>320</td>\n",
       "      <td>positive</td>\n",
       "    </tr>\n",
       "    <tr>\n",
       "      <th>1</th>\n",
       "      <td>502</td>\n",
       "      <td>@politicsNew2</td>\n",
       "      <td>2025-02-11 09:15:20</td>\n",
       "      <td>Donald Trump's latest speech on the economy wa...</td>\n",
       "      <td>Donald Trump</td>\n",
       "      <td>Republican Party</td>\n",
       "      <td>100</td>\n",
       "      <td>450</td>\n",
       "      <td>positive</td>\n",
       "    </tr>\n",
       "    <tr>\n",
       "      <th>2</th>\n",
       "      <td>503</td>\n",
       "      <td>@greenVisionary2</td>\n",
       "      <td>2025-02-11 10:05:35</td>\n",
       "      <td>Jill Stein's environmental policies are a step...</td>\n",
       "      <td>Jill Stein</td>\n",
       "      <td>Green Party</td>\n",
       "      <td>60</td>\n",
       "      <td>200</td>\n",
       "      <td>positive</td>\n",
       "    </tr>\n",
       "    <tr>\n",
       "      <th>3</th>\n",
       "      <td>504</td>\n",
       "      <td>@indieWatcher2</td>\n",
       "      <td>2025-02-11 11:25:40</td>\n",
       "      <td>Robert Kennedy's independent run brings fresh ...</td>\n",
       "      <td>Robert Kennedy</td>\n",
       "      <td>Independent</td>\n",
       "      <td>30</td>\n",
       "      <td>120</td>\n",
       "      <td>neutral</td>\n",
       "    </tr>\n",
       "    <tr>\n",
       "      <th>4</th>\n",
       "      <td>505</td>\n",
       "      <td>@libertyFan4</td>\n",
       "      <td>2025-02-11 12:40:50</td>\n",
       "      <td>Chase Oliver's stance on gun rights is unwaver...</td>\n",
       "      <td>Chase Oliver</td>\n",
       "      <td>Libertarian Party</td>\n",
       "      <td>50</td>\n",
       "      <td>160</td>\n",
       "      <td>positive</td>\n",
       "    </tr>\n",
       "  </tbody>\n",
       "</table>\n",
       "</div>"
      ],
      "text/plain": [
       "   tweet_id       user_handle            timestamp  \\\n",
       "0       501         @user1068  2025-02-11 08:30:10   \n",
       "1       502     @politicsNew2  2025-02-11 09:15:20   \n",
       "2       503  @greenVisionary2  2025-02-11 10:05:35   \n",
       "3       504    @indieWatcher2  2025-02-11 11:25:40   \n",
       "4       505      @libertyFan4  2025-02-11 12:40:50   \n",
       "\n",
       "                                          tweet_text       candidate  \\\n",
       "0  Kamala Harris's new policy on education reform...   Kamala Harris   \n",
       "1  Donald Trump's latest speech on the economy wa...    Donald Trump   \n",
       "2  Jill Stein's environmental policies are a step...      Jill Stein   \n",
       "3  Robert Kennedy's independent run brings fresh ...  Robert Kennedy   \n",
       "4  Chase Oliver's stance on gun rights is unwaver...    Chase Oliver   \n",
       "\n",
       "               party  retweets  likes sentiment  \n",
       "0   Democratic Party        85    320  positive  \n",
       "1   Republican Party       100    450  positive  \n",
       "2        Green Party        60    200  positive  \n",
       "3        Independent        30    120   neutral  \n",
       "4  Libertarian Party        50    160  positive  "
      ]
     },
     "execution_count": 18,
     "metadata": {},
     "output_type": "execute_result"
    }
   ],
   "source": [
    "df1.head()"
   ]
  },
  {
   "cell_type": "code",
   "execution_count": 19,
   "id": "e5df712e",
   "metadata": {},
   "outputs": [
    {
     "data": {
      "text/plain": [
       "Index(['tweet_id', 'user_handle', 'timestamp', 'tweet_text', 'candidate',\n",
       "       'party', 'retweets', 'likes', 'sentiment'],\n",
       "      dtype='object')"
      ]
     },
     "execution_count": 19,
     "metadata": {},
     "output_type": "execute_result"
    }
   ],
   "source": [
    "df1.columns"
   ]
  },
  {
   "cell_type": "markdown",
   "id": "f4914882",
   "metadata": {},
   "source": [
    "#cleaning the data"
   ]
  },
  {
   "cell_type": "code",
   "execution_count": 20,
   "id": "462ff622",
   "metadata": {},
   "outputs": [
    {
     "data": {
      "text/plain": [
       "tweet_id       0\n",
       "user_handle    0\n",
       "timestamp      0\n",
       "tweet_text     0\n",
       "candidate      0\n",
       "party          0\n",
       "retweets       0\n",
       "likes          0\n",
       "sentiment      0\n",
       "dtype: int64"
      ]
     },
     "execution_count": 20,
     "metadata": {},
     "output_type": "execute_result"
    }
   ],
   "source": [
    "df1.isnull().sum()"
   ]
  },
  {
   "cell_type": "code",
   "execution_count": 21,
   "id": "ec3fbcf7",
   "metadata": {},
   "outputs": [
    {
     "data": {
      "text/plain": [
       "tweet_id       0\n",
       "user_handle    0\n",
       "timestamp      0\n",
       "tweet_text     0\n",
       "candidate      0\n",
       "party          0\n",
       "retweets       0\n",
       "likes          0\n",
       "sentiment      0\n",
       "dtype: int64"
      ]
     },
     "execution_count": 21,
     "metadata": {},
     "output_type": "execute_result"
    }
   ],
   "source": [
    "df1.dropna(inplace=True)\n",
    "df1.isnull().sum()"
   ]
  },
  {
   "cell_type": "code",
   "execution_count": 22,
   "id": "afcd31db",
   "metadata": {},
   "outputs": [
    {
     "data": {
      "text/html": [
       "<div>\n",
       "<style scoped>\n",
       "    .dataframe tbody tr th:only-of-type {\n",
       "        vertical-align: middle;\n",
       "    }\n",
       "\n",
       "    .dataframe tbody tr th {\n",
       "        vertical-align: top;\n",
       "    }\n",
       "\n",
       "    .dataframe thead th {\n",
       "        text-align: right;\n",
       "    }\n",
       "</style>\n",
       "<table border=\"1\" class=\"dataframe\">\n",
       "  <thead>\n",
       "    <tr style=\"text-align: right;\">\n",
       "      <th></th>\n",
       "      <th>tweet_id</th>\n",
       "      <th>user_handle</th>\n",
       "      <th>timestamp</th>\n",
       "      <th>tweet_text</th>\n",
       "      <th>candidate</th>\n",
       "      <th>party</th>\n",
       "      <th>retweets</th>\n",
       "      <th>likes</th>\n",
       "      <th>sentiment</th>\n",
       "    </tr>\n",
       "  </thead>\n",
       "  <tbody>\n",
       "    <tr>\n",
       "      <th>0</th>\n",
       "      <td>501</td>\n",
       "      <td>@user1068</td>\n",
       "      <td>2025-02-11 08:30:10</td>\n",
       "      <td>Kamala Harris's new policy on education reform...</td>\n",
       "      <td>Kamala Harris</td>\n",
       "      <td>Democratic Party</td>\n",
       "      <td>85</td>\n",
       "      <td>320</td>\n",
       "      <td>positive</td>\n",
       "    </tr>\n",
       "    <tr>\n",
       "      <th>1</th>\n",
       "      <td>502</td>\n",
       "      <td>@politicsNew2</td>\n",
       "      <td>2025-02-11 09:15:20</td>\n",
       "      <td>Donald Trump's latest speech on the economy wa...</td>\n",
       "      <td>Donald Trump</td>\n",
       "      <td>Republican Party</td>\n",
       "      <td>100</td>\n",
       "      <td>450</td>\n",
       "      <td>positive</td>\n",
       "    </tr>\n",
       "    <tr>\n",
       "      <th>2</th>\n",
       "      <td>503</td>\n",
       "      <td>@greenVisionary2</td>\n",
       "      <td>2025-02-11 10:05:35</td>\n",
       "      <td>Jill Stein's environmental policies are a step...</td>\n",
       "      <td>Jill Stein</td>\n",
       "      <td>Green Party</td>\n",
       "      <td>60</td>\n",
       "      <td>200</td>\n",
       "      <td>positive</td>\n",
       "    </tr>\n",
       "    <tr>\n",
       "      <th>3</th>\n",
       "      <td>504</td>\n",
       "      <td>@indieWatcher2</td>\n",
       "      <td>2025-02-11 11:25:40</td>\n",
       "      <td>Robert Kennedy's independent run brings fresh ...</td>\n",
       "      <td>Robert Kennedy</td>\n",
       "      <td>Independent</td>\n",
       "      <td>30</td>\n",
       "      <td>120</td>\n",
       "      <td>neutral</td>\n",
       "    </tr>\n",
       "    <tr>\n",
       "      <th>4</th>\n",
       "      <td>505</td>\n",
       "      <td>@libertyFan4</td>\n",
       "      <td>2025-02-11 12:40:50</td>\n",
       "      <td>Chase Oliver's stance on gun rights is unwaver...</td>\n",
       "      <td>Chase Oliver</td>\n",
       "      <td>Libertarian Party</td>\n",
       "      <td>50</td>\n",
       "      <td>160</td>\n",
       "      <td>positive</td>\n",
       "    </tr>\n",
       "  </tbody>\n",
       "</table>\n",
       "</div>"
      ],
      "text/plain": [
       "   tweet_id       user_handle            timestamp  \\\n",
       "0       501         @user1068  2025-02-11 08:30:10   \n",
       "1       502     @politicsNew2  2025-02-11 09:15:20   \n",
       "2       503  @greenVisionary2  2025-02-11 10:05:35   \n",
       "3       504    @indieWatcher2  2025-02-11 11:25:40   \n",
       "4       505      @libertyFan4  2025-02-11 12:40:50   \n",
       "\n",
       "                                          tweet_text       candidate  \\\n",
       "0  Kamala Harris's new policy on education reform...   Kamala Harris   \n",
       "1  Donald Trump's latest speech on the economy wa...    Donald Trump   \n",
       "2  Jill Stein's environmental policies are a step...      Jill Stein   \n",
       "3  Robert Kennedy's independent run brings fresh ...  Robert Kennedy   \n",
       "4  Chase Oliver's stance on gun rights is unwaver...    Chase Oliver   \n",
       "\n",
       "               party  retweets  likes sentiment  \n",
       "0   Democratic Party        85    320  positive  \n",
       "1   Republican Party       100    450  positive  \n",
       "2        Green Party        60    200  positive  \n",
       "3        Independent        30    120   neutral  \n",
       "4  Libertarian Party        50    160  positive  "
      ]
     },
     "execution_count": 22,
     "metadata": {},
     "output_type": "execute_result"
    }
   ],
   "source": [
    "df1.head()"
   ]
  },
  {
   "cell_type": "code",
   "execution_count": 23,
   "id": "d8942429",
   "metadata": {},
   "outputs": [
    {
     "data": {
      "text/plain": [
       "(50, 9)"
      ]
     },
     "execution_count": 23,
     "metadata": {},
     "output_type": "execute_result"
    }
   ],
   "source": [
    "df1.shape"
   ]
  },
  {
   "cell_type": "code",
   "execution_count": 24,
   "id": "b271f405",
   "metadata": {},
   "outputs": [
    {
     "data": {
      "text/plain": [
       "np.int64(0)"
      ]
     },
     "execution_count": 24,
     "metadata": {},
     "output_type": "execute_result"
    }
   ],
   "source": [
    "df1.duplicated().sum()"
   ]
  },
  {
   "cell_type": "markdown",
   "id": "0af2dfe9",
   "metadata": {},
   "source": [
    "There is no dublicate"
   ]
  },
  {
   "cell_type": "code",
   "execution_count": 25,
   "id": "10da63eb",
   "metadata": {},
   "outputs": [
    {
     "data": {
      "text/plain": [
       "Index(['tweet_id', 'user_handle', 'timestamp', 'tweet_text', 'candidate',\n",
       "       'party', 'retweets', 'likes', 'sentiment'],\n",
       "      dtype='object')"
      ]
     },
     "execution_count": 25,
     "metadata": {},
     "output_type": "execute_result"
    }
   ],
   "source": [
    "df1.columns"
   ]
  },
  {
   "cell_type": "code",
   "execution_count": 26,
   "id": "70e5e8c9",
   "metadata": {},
   "outputs": [
    {
     "data": {
      "text/html": [
       "<div>\n",
       "<style scoped>\n",
       "    .dataframe tbody tr th:only-of-type {\n",
       "        vertical-align: middle;\n",
       "    }\n",
       "\n",
       "    .dataframe tbody tr th {\n",
       "        vertical-align: top;\n",
       "    }\n",
       "\n",
       "    .dataframe thead th {\n",
       "        text-align: right;\n",
       "    }\n",
       "</style>\n",
       "<table border=\"1\" class=\"dataframe\">\n",
       "  <thead>\n",
       "    <tr style=\"text-align: right;\">\n",
       "      <th></th>\n",
       "      <th>tweet_id</th>\n",
       "      <th>user_handle</th>\n",
       "      <th>timestamp</th>\n",
       "      <th>tweet_text</th>\n",
       "      <th>candidate</th>\n",
       "      <th>party</th>\n",
       "      <th>retweets</th>\n",
       "      <th>likes</th>\n",
       "      <th>sentiment</th>\n",
       "    </tr>\n",
       "  </thead>\n",
       "  <tbody>\n",
       "    <tr>\n",
       "      <th>0</th>\n",
       "      <td>501</td>\n",
       "      <td>@user1068</td>\n",
       "      <td>2025-02-11 08:30:10</td>\n",
       "      <td>Kamala Harris's new policy on education reform...</td>\n",
       "      <td>Kamala Harris</td>\n",
       "      <td>Democratic Party</td>\n",
       "      <td>85</td>\n",
       "      <td>320</td>\n",
       "      <td>positive</td>\n",
       "    </tr>\n",
       "    <tr>\n",
       "      <th>1</th>\n",
       "      <td>502</td>\n",
       "      <td>@politicsNew2</td>\n",
       "      <td>2025-02-11 09:15:20</td>\n",
       "      <td>Donald Trump's latest speech on the economy wa...</td>\n",
       "      <td>Donald Trump</td>\n",
       "      <td>Republican Party</td>\n",
       "      <td>100</td>\n",
       "      <td>450</td>\n",
       "      <td>positive</td>\n",
       "    </tr>\n",
       "    <tr>\n",
       "      <th>2</th>\n",
       "      <td>503</td>\n",
       "      <td>@greenVisionary2</td>\n",
       "      <td>2025-02-11 10:05:35</td>\n",
       "      <td>Jill Stein's environmental policies are a step...</td>\n",
       "      <td>Jill Stein</td>\n",
       "      <td>Green Party</td>\n",
       "      <td>60</td>\n",
       "      <td>200</td>\n",
       "      <td>positive</td>\n",
       "    </tr>\n",
       "    <tr>\n",
       "      <th>3</th>\n",
       "      <td>504</td>\n",
       "      <td>@indieWatcher2</td>\n",
       "      <td>2025-02-11 11:25:40</td>\n",
       "      <td>Robert Kennedy's independent run brings fresh ...</td>\n",
       "      <td>Robert Kennedy</td>\n",
       "      <td>Independent</td>\n",
       "      <td>30</td>\n",
       "      <td>120</td>\n",
       "      <td>neutral</td>\n",
       "    </tr>\n",
       "    <tr>\n",
       "      <th>4</th>\n",
       "      <td>505</td>\n",
       "      <td>@libertyFan4</td>\n",
       "      <td>2025-02-11 12:40:50</td>\n",
       "      <td>Chase Oliver's stance on gun rights is unwaver...</td>\n",
       "      <td>Chase Oliver</td>\n",
       "      <td>Libertarian Party</td>\n",
       "      <td>50</td>\n",
       "      <td>160</td>\n",
       "      <td>positive</td>\n",
       "    </tr>\n",
       "    <tr>\n",
       "      <th>5</th>\n",
       "      <td>506</td>\n",
       "      <td>@user1069</td>\n",
       "      <td>2025-02-12 08:20:15</td>\n",
       "      <td>Kamala Harris is making strides in healthcare ...</td>\n",
       "      <td>Kamala Harris</td>\n",
       "      <td>Democratic Party</td>\n",
       "      <td>90</td>\n",
       "      <td>340</td>\n",
       "      <td>positive</td>\n",
       "    </tr>\n",
       "    <tr>\n",
       "      <th>6</th>\n",
       "      <td>507</td>\n",
       "      <td>@taxTalk5</td>\n",
       "      <td>2025-02-12 09:40:30</td>\n",
       "      <td>Trump's tax cuts are benefiting small businesses.</td>\n",
       "      <td>Donald Trump</td>\n",
       "      <td>Republican Party</td>\n",
       "      <td>95</td>\n",
       "      <td>420</td>\n",
       "      <td>positive</td>\n",
       "    </tr>\n",
       "    <tr>\n",
       "      <th>7</th>\n",
       "      <td>508</td>\n",
       "      <td>@sustainability4</td>\n",
       "      <td>2025-02-12 10:30:50</td>\n",
       "      <td>Jill Stein promotes the adoption of electric v...</td>\n",
       "      <td>Jill Stein</td>\n",
       "      <td>Green Party</td>\n",
       "      <td>65</td>\n",
       "      <td>205</td>\n",
       "      <td>positive</td>\n",
       "    </tr>\n",
       "    <tr>\n",
       "      <th>8</th>\n",
       "      <td>509</td>\n",
       "      <td>@independantView7</td>\n",
       "      <td>2025-02-12 11:55:20</td>\n",
       "      <td>Robert Kennedy's policies blend diverse ideolo...</td>\n",
       "      <td>Robert Kennedy</td>\n",
       "      <td>Independent</td>\n",
       "      <td>22</td>\n",
       "      <td>95</td>\n",
       "      <td>neutral</td>\n",
       "    </tr>\n",
       "    <tr>\n",
       "      <th>9</th>\n",
       "      <td>510</td>\n",
       "      <td>@freedomAdvocate7</td>\n",
       "      <td>2025-02-12 12:40:50</td>\n",
       "      <td>Chase Oliver's economic plans focus on maximiz...</td>\n",
       "      <td>Chase Oliver</td>\n",
       "      <td>Libertarian Party</td>\n",
       "      <td>45</td>\n",
       "      <td>150</td>\n",
       "      <td>positive</td>\n",
       "    </tr>\n",
       "  </tbody>\n",
       "</table>\n",
       "</div>"
      ],
      "text/plain": [
       "   tweet_id        user_handle            timestamp  \\\n",
       "0       501          @user1068  2025-02-11 08:30:10   \n",
       "1       502      @politicsNew2  2025-02-11 09:15:20   \n",
       "2       503   @greenVisionary2  2025-02-11 10:05:35   \n",
       "3       504     @indieWatcher2  2025-02-11 11:25:40   \n",
       "4       505       @libertyFan4  2025-02-11 12:40:50   \n",
       "5       506          @user1069  2025-02-12 08:20:15   \n",
       "6       507          @taxTalk5  2025-02-12 09:40:30   \n",
       "7       508   @sustainability4  2025-02-12 10:30:50   \n",
       "8       509  @independantView7  2025-02-12 11:55:20   \n",
       "9       510  @freedomAdvocate7  2025-02-12 12:40:50   \n",
       "\n",
       "                                          tweet_text       candidate  \\\n",
       "0  Kamala Harris's new policy on education reform...   Kamala Harris   \n",
       "1  Donald Trump's latest speech on the economy wa...    Donald Trump   \n",
       "2  Jill Stein's environmental policies are a step...      Jill Stein   \n",
       "3  Robert Kennedy's independent run brings fresh ...  Robert Kennedy   \n",
       "4  Chase Oliver's stance on gun rights is unwaver...    Chase Oliver   \n",
       "5  Kamala Harris is making strides in healthcare ...   Kamala Harris   \n",
       "6  Trump's tax cuts are benefiting small businesses.    Donald Trump   \n",
       "7  Jill Stein promotes the adoption of electric v...      Jill Stein   \n",
       "8  Robert Kennedy's policies blend diverse ideolo...  Robert Kennedy   \n",
       "9  Chase Oliver's economic plans focus on maximiz...    Chase Oliver   \n",
       "\n",
       "               party  retweets  likes sentiment  \n",
       "0   Democratic Party        85    320  positive  \n",
       "1   Republican Party       100    450  positive  \n",
       "2        Green Party        60    200  positive  \n",
       "3        Independent        30    120   neutral  \n",
       "4  Libertarian Party        50    160  positive  \n",
       "5   Democratic Party        90    340  positive  \n",
       "6   Republican Party        95    420  positive  \n",
       "7        Green Party        65    205  positive  \n",
       "8        Independent        22     95   neutral  \n",
       "9  Libertarian Party        45    150  positive  "
      ]
     },
     "execution_count": 26,
     "metadata": {},
     "output_type": "execute_result"
    }
   ],
   "source": [
    "df1.head(10)"
   ]
  },
  {
   "cell_type": "code",
   "execution_count": 27,
   "id": "f19c5a42",
   "metadata": {},
   "outputs": [
    {
     "name": "stdout",
     "output_type": "stream",
     "text": [
      "<class 'pandas.core.frame.DataFrame'>\n",
      "RangeIndex: 50 entries, 0 to 49\n",
      "Data columns (total 9 columns):\n",
      " #   Column       Non-Null Count  Dtype \n",
      "---  ------       --------------  ----- \n",
      " 0   tweet_id     50 non-null     int64 \n",
      " 1   user_handle  50 non-null     object\n",
      " 2   timestamp    50 non-null     object\n",
      " 3   tweet_text   50 non-null     object\n",
      " 4   candidate    50 non-null     object\n",
      " 5   party        50 non-null     object\n",
      " 6   retweets     50 non-null     int64 \n",
      " 7   likes        50 non-null     int64 \n",
      " 8   sentiment    50 non-null     object\n",
      "dtypes: int64(3), object(6)\n",
      "memory usage: 3.6+ KB\n"
     ]
    }
   ],
   "source": [
    "df1.info()"
   ]
  },
  {
   "cell_type": "code",
   "execution_count": 28,
   "id": "669a5cbc",
   "metadata": {},
   "outputs": [
    {
     "data": {
      "text/html": [
       "<div>\n",
       "<style scoped>\n",
       "    .dataframe tbody tr th:only-of-type {\n",
       "        vertical-align: middle;\n",
       "    }\n",
       "\n",
       "    .dataframe tbody tr th {\n",
       "        vertical-align: top;\n",
       "    }\n",
       "\n",
       "    .dataframe thead th {\n",
       "        text-align: right;\n",
       "    }\n",
       "</style>\n",
       "<table border=\"1\" class=\"dataframe\">\n",
       "  <thead>\n",
       "    <tr style=\"text-align: right;\">\n",
       "      <th></th>\n",
       "      <th>tweet_id</th>\n",
       "      <th>retweets</th>\n",
       "      <th>likes</th>\n",
       "    </tr>\n",
       "  </thead>\n",
       "  <tbody>\n",
       "    <tr>\n",
       "      <th>count</th>\n",
       "      <td>50.00000</td>\n",
       "      <td>50.000000</td>\n",
       "      <td>50.000000</td>\n",
       "    </tr>\n",
       "    <tr>\n",
       "      <th>mean</th>\n",
       "      <td>525.50000</td>\n",
       "      <td>64.360000</td>\n",
       "      <td>248.400000</td>\n",
       "    </tr>\n",
       "    <tr>\n",
       "      <th>std</th>\n",
       "      <td>14.57738</td>\n",
       "      <td>27.942185</td>\n",
       "      <td>122.167667</td>\n",
       "    </tr>\n",
       "    <tr>\n",
       "      <th>min</th>\n",
       "      <td>501.00000</td>\n",
       "      <td>18.000000</td>\n",
       "      <td>85.000000</td>\n",
       "    </tr>\n",
       "    <tr>\n",
       "      <th>25%</th>\n",
       "      <td>513.25000</td>\n",
       "      <td>41.250000</td>\n",
       "      <td>150.000000</td>\n",
       "    </tr>\n",
       "    <tr>\n",
       "      <th>50%</th>\n",
       "      <td>525.50000</td>\n",
       "      <td>67.500000</td>\n",
       "      <td>222.500000</td>\n",
       "    </tr>\n",
       "    <tr>\n",
       "      <th>75%</th>\n",
       "      <td>537.75000</td>\n",
       "      <td>90.000000</td>\n",
       "      <td>340.000000</td>\n",
       "    </tr>\n",
       "    <tr>\n",
       "      <th>max</th>\n",
       "      <td>550.00000</td>\n",
       "      <td>115.000000</td>\n",
       "      <td>480.000000</td>\n",
       "    </tr>\n",
       "  </tbody>\n",
       "</table>\n",
       "</div>"
      ],
      "text/plain": [
       "        tweet_id    retweets       likes\n",
       "count   50.00000   50.000000   50.000000\n",
       "mean   525.50000   64.360000  248.400000\n",
       "std     14.57738   27.942185  122.167667\n",
       "min    501.00000   18.000000   85.000000\n",
       "25%    513.25000   41.250000  150.000000\n",
       "50%    525.50000   67.500000  222.500000\n",
       "75%    537.75000   90.000000  340.000000\n",
       "max    550.00000  115.000000  480.000000"
      ]
     },
     "execution_count": 28,
     "metadata": {},
     "output_type": "execute_result"
    }
   ],
   "source": [
    "df1.describe()"
   ]
  },
  {
   "cell_type": "code",
   "execution_count": 35,
   "id": "5b709607",
   "metadata": {},
   "outputs": [
    {
     "name": "stdout",
     "output_type": "stream",
     "text": [
      "        candidate  avg_sentiment  tweet_volume\n",
      "0    Chase Oliver            1.0            10\n",
      "1    Donald Trump            0.1            10\n",
      "2      Jill Stein            1.0            10\n",
      "3   Kamala Harris            1.0            10\n",
      "4  Robert Kennedy            0.0            10\n"
     ]
    }
   ],
   "source": [
    "# Map sentiment strings to numeric scores\n",
    "sentiment_map = {\n",
    "    'positive': 1,\n",
    "    'neutral': 0,\n",
    "    'negative': -1\n",
    "}\n",
    "\n",
    "# Apply the mapping to a new column\n",
    "df1['sentiment_score'] = df1['sentiment'].map(sentiment_map)\n",
    "df_tweets_agg = df1.groupby('candidate').agg(\n",
    "    avg_sentiment=('sentiment_score', 'mean'),  # Use sentiment_score instead\n",
    "    tweet_volume=('tweet_id', 'count')\n",
    ").reset_index()\n",
    "\n",
    "print(df_tweets_agg)\n",
    "\n"
   ]
  },
  {
   "cell_type": "code",
   "execution_count": 32,
   "id": "2e37db92",
   "metadata": {},
   "outputs": [],
   "source": [
    "df1['sentiment_score'] = df1['sentiment'].map(sentiment_map)\n",
    "\n",
    "# Optional: Drop rows with unmapped sentiment values\n",
    "df1 = df1.dropna(subset=['sentiment_score'])\n"
   ]
  },
  {
   "cell_type": "code",
   "execution_count": 33,
   "id": "fb59ce10",
   "metadata": {},
   "outputs": [
    {
     "data": {
      "text/html": [
       "<div>\n",
       "<style scoped>\n",
       "    .dataframe tbody tr th:only-of-type {\n",
       "        vertical-align: middle;\n",
       "    }\n",
       "\n",
       "    .dataframe tbody tr th {\n",
       "        vertical-align: top;\n",
       "    }\n",
       "\n",
       "    .dataframe thead th {\n",
       "        text-align: right;\n",
       "    }\n",
       "</style>\n",
       "<table border=\"1\" class=\"dataframe\">\n",
       "  <thead>\n",
       "    <tr style=\"text-align: right;\">\n",
       "      <th></th>\n",
       "      <th>tweet_id</th>\n",
       "      <th>user_handle</th>\n",
       "      <th>timestamp</th>\n",
       "      <th>tweet_text</th>\n",
       "      <th>candidate</th>\n",
       "      <th>party</th>\n",
       "      <th>retweets</th>\n",
       "      <th>likes</th>\n",
       "      <th>sentiment</th>\n",
       "      <th>sentiment_score</th>\n",
       "    </tr>\n",
       "  </thead>\n",
       "  <tbody>\n",
       "    <tr>\n",
       "      <th>0</th>\n",
       "      <td>501</td>\n",
       "      <td>@user1068</td>\n",
       "      <td>2025-02-11 08:30:10</td>\n",
       "      <td>Kamala Harris's new policy on education reform...</td>\n",
       "      <td>Kamala Harris</td>\n",
       "      <td>Democratic Party</td>\n",
       "      <td>85</td>\n",
       "      <td>320</td>\n",
       "      <td>positive</td>\n",
       "      <td>1</td>\n",
       "    </tr>\n",
       "    <tr>\n",
       "      <th>1</th>\n",
       "      <td>502</td>\n",
       "      <td>@politicsNew2</td>\n",
       "      <td>2025-02-11 09:15:20</td>\n",
       "      <td>Donald Trump's latest speech on the economy wa...</td>\n",
       "      <td>Donald Trump</td>\n",
       "      <td>Republican Party</td>\n",
       "      <td>100</td>\n",
       "      <td>450</td>\n",
       "      <td>positive</td>\n",
       "      <td>1</td>\n",
       "    </tr>\n",
       "    <tr>\n",
       "      <th>2</th>\n",
       "      <td>503</td>\n",
       "      <td>@greenVisionary2</td>\n",
       "      <td>2025-02-11 10:05:35</td>\n",
       "      <td>Jill Stein's environmental policies are a step...</td>\n",
       "      <td>Jill Stein</td>\n",
       "      <td>Green Party</td>\n",
       "      <td>60</td>\n",
       "      <td>200</td>\n",
       "      <td>positive</td>\n",
       "      <td>1</td>\n",
       "    </tr>\n",
       "    <tr>\n",
       "      <th>3</th>\n",
       "      <td>504</td>\n",
       "      <td>@indieWatcher2</td>\n",
       "      <td>2025-02-11 11:25:40</td>\n",
       "      <td>Robert Kennedy's independent run brings fresh ...</td>\n",
       "      <td>Robert Kennedy</td>\n",
       "      <td>Independent</td>\n",
       "      <td>30</td>\n",
       "      <td>120</td>\n",
       "      <td>neutral</td>\n",
       "      <td>0</td>\n",
       "    </tr>\n",
       "    <tr>\n",
       "      <th>4</th>\n",
       "      <td>505</td>\n",
       "      <td>@libertyFan4</td>\n",
       "      <td>2025-02-11 12:40:50</td>\n",
       "      <td>Chase Oliver's stance on gun rights is unwaver...</td>\n",
       "      <td>Chase Oliver</td>\n",
       "      <td>Libertarian Party</td>\n",
       "      <td>50</td>\n",
       "      <td>160</td>\n",
       "      <td>positive</td>\n",
       "      <td>1</td>\n",
       "    </tr>\n",
       "  </tbody>\n",
       "</table>\n",
       "</div>"
      ],
      "text/plain": [
       "   tweet_id       user_handle            timestamp  \\\n",
       "0       501         @user1068  2025-02-11 08:30:10   \n",
       "1       502     @politicsNew2  2025-02-11 09:15:20   \n",
       "2       503  @greenVisionary2  2025-02-11 10:05:35   \n",
       "3       504    @indieWatcher2  2025-02-11 11:25:40   \n",
       "4       505      @libertyFan4  2025-02-11 12:40:50   \n",
       "\n",
       "                                          tweet_text       candidate  \\\n",
       "0  Kamala Harris's new policy on education reform...   Kamala Harris   \n",
       "1  Donald Trump's latest speech on the economy wa...    Donald Trump   \n",
       "2  Jill Stein's environmental policies are a step...      Jill Stein   \n",
       "3  Robert Kennedy's independent run brings fresh ...  Robert Kennedy   \n",
       "4  Chase Oliver's stance on gun rights is unwaver...    Chase Oliver   \n",
       "\n",
       "               party  retweets  likes sentiment  sentiment_score  \n",
       "0   Democratic Party        85    320  positive                1  \n",
       "1   Republican Party       100    450  positive                1  \n",
       "2        Green Party        60    200  positive                1  \n",
       "3        Independent        30    120   neutral                0  \n",
       "4  Libertarian Party        50    160  positive                1  "
      ]
     },
     "execution_count": 33,
     "metadata": {},
     "output_type": "execute_result"
    }
   ],
   "source": [
    "df1.head()"
   ]
  },
  {
   "cell_type": "code",
   "execution_count": 36,
   "id": "64847f15",
   "metadata": {},
   "outputs": [
    {
     "name": "stderr",
     "output_type": "stream",
     "text": [
      "C:\\Users\\amitd\\AppData\\Local\\Temp\\ipykernel_43476\\4160787492.py:4: FutureWarning: \n",
      "\n",
      "Passing `palette` without assigning `hue` is deprecated and will be removed in v0.14.0. Assign the `x` variable to `hue` and set `legend=False` for the same effect.\n",
      "\n",
      "  sns.barplot(data=df_tweets_agg, x='candidate', y='avg_sentiment', palette='coolwarm')\n"
     ]
    },
    {
     "data": {
      "image/png": "[encoded data removed]",
      "text/plain": [
       "<Figure size 640x480 with 1 Axes>"
      ]
     },
     "metadata": {},
     "output_type": "display_data"
    }
   ],
   "source": [
    "import seaborn as sns\n",
    "import matplotlib.pyplot as plt\n",
    "\n",
    "sns.barplot(data=df_tweets_agg, x='candidate', y='avg_sentiment', palette='coolwarm')\n",
    "plt.title('Average Sentiment by Candidate')\n",
    "plt.ylabel('Average Sentiment Score')\n",
    "plt.xlabel('Candidate')\n",
    "plt.xticks(rotation=45)\n",
    "plt.tight_layout()\n",
    "plt.show()\n"
   ]
  },
  {
   "cell_type": "markdown",
   "id": "8024dd19",
   "metadata": {},
   "source": [
    "candidate and their sentiment shown by voters, donald got less sentiment"
   ]
  },
  {
   "cell_type": "markdown",
   "id": "624aa1bb",
   "metadata": {},
   "source": [
    "<b> <h1> Summary</h1><b>Modi appears to be predominantly negative, accounting for almost half (46.9%) of the tweets. While negative sentiment leads, there is still a significant amount of positive sentiment (30.0%), indicating a divided online opinion. A smaller proportion of tweets (23.1%) express neutral sentiment, suggesting that most online discussions tend to lean towards either a positive or negative stance rather than being purely objective.\""
   ]
  },
  {
   "cell_type": "code",
   "execution_count": 37,
   "id": "afeea4ec",
   "metadata": {},
   "outputs": [
    {
     "data": {
      "image/png": "[encoded data removed]",
      "text/plain": [
       "<Figure size 1000x600 with 2 Axes>"
      ]
     },
     "metadata": {},
     "output_type": "display_data"
    }
   ],
   "source": [
    "import pandas as pd\n",
    "import seaborn as sns\n",
    "import matplotlib.pyplot as plt\n",
    "\n",
    "# Create a pivot table: average sentiment by candidate and party\n",
    "heatmap_data = df1.pivot_table(\n",
    "    index='party',\n",
    "    columns='candidate',\n",
    "    values='sentiment_score',\n",
    "    aggfunc='mean'\n",
    ")\n",
    "\n",
    "# Plot heatmap\n",
    "plt.figure(figsize=(10, 6))\n",
    "sns.heatmap(heatmap_data, annot=True, cmap='RdYlGn', center=0, linewidths=0.5)\n",
    "plt.title('Heatmap of Average Sentiment by Candidate and Party')\n",
    "plt.ylabel('Party')\n",
    "plt.xlabel('Candidate')\n",
    "plt.xticks(rotation=45)\n",
    "plt.tight_layout()\n",
    "plt.show()\n"
   ]
  },
  {
   "cell_type": "markdown",
   "id": "9feeee0b",
   "metadata": {},
   "source": [
    "In summary, for the candidates shown, Chase Oliver, Jill Stein, and Kamala Harris have the highest average sentiment (1.0), while Robert Kennedy has a neutral sentiment (0.0), and Donald Trump has a slightly positive sentiment (0.1)"
   ]
  },
  {
   "cell_type": "code",
   "execution_count": 38,
   "id": "d04b28e1",
   "metadata": {},
   "outputs": [
    {
     "data": {
      "image/png": "[encoded data removed]",
      "text/plain": [
       "<Figure size 800x500 with 2 Axes>"
      ]
     },
     "metadata": {},
     "output_type": "display_data"
    }
   ],
   "source": [
    "# Create a pivot table: tweet count by candidate and sentiment\n",
    "tweet_count_matrix = df1.pivot_table(\n",
    "    index='candidate',\n",
    "    columns='sentiment',\n",
    "    values='tweet_id',  # use tweet_id to count\n",
    "    aggfunc='count'\n",
    ")\n",
    "\n",
    "# Plot heatmap\n",
    "plt.figure(figsize=(8, 5))\n",
    "sns.heatmap(tweet_count_matrix, annot=True, cmap='Blues', linewidths=0.5)\n",
    "plt.title('Tweet Sentiment Counts by Candidate')\n",
    "plt.ylabel('Candidate')\n",
    "plt.xlabel('Sentiment')\n",
    "plt.tight_layout()\n",
    "plt.show()\n"
   ]
  },
  {
   "cell_type": "markdown",
   "id": "2772a872",
   "metadata": {},
   "source": [
    "\n",
    "This heatmap shows the Tweet Sentiment Counts by Candidate.\n",
    "\n",
    "Here's a breakdown of what it displays:\n",
    "\n",
    "Candidates (Y-axis): The candidates are listed on the left: Chase Oliver, Donald Trump, Jill Stein, Kamala Harris, and Robert Kennedy.\n",
    "Sentiment (X-axis): The sentiment categories are on the bottom: negative, neutral, and positive.\n",
    "Color Bar (Right): The scale on the right indicates the count, from light blue (3) to dark blue (10). Darker shades represent higher tweet counts for a given sentiment.\n",
    "Numbers in Cells: The numbers within each cell represent the actual count of tweets for that specific candidate and sentiment.\n",
    "Key observations from the heatmap:\n",
    "\n",
    "Chase Oliver: Has 10 positive tweets sentiment.\n",
    "Donald Trump: Has 3 negative tweets, 3 neutral tweets, and 4 positive tweets sentiment\n",
    "Jill Stein: Has 10 positive tweets sentiment.\n",
    "Kamala Harris: Has 10 positive tweets sentiment.\n",
    "Robert Kennedy: Has 10 neutral tweets sentiment.\n",
    "In summary, this chart illustrates the distribution of negative, neutral, and positive tweet sentiments for each listed candidate."
   ]
  },
  {
   "cell_type": "code",
   "execution_count": 39,
   "id": "0edcea0b",
   "metadata": {},
   "outputs": [
    {
     "name": "stdout",
     "output_type": "stream",
     "text": [
      "won\n",
      "0    0.75\n",
      "1    0.10\n",
      "Name: sentiment_score, dtype: float64\n"
     ]
    },
    {
     "data": {
      "image/png": "[encoded data removed]",
      "text/plain": [
       "<Figure size 640x480 with 1 Axes>"
      ]
     },
     "metadata": {},
     "output_type": "display_data"
    }
   ],
   "source": [
    "# Suppose this is the result (you can replace with actual data)\n",
    "election_results = {\n",
    "    'Donald Trump': 'Won',\n",
    "    'Joe Biden': 'Lost',\n",
    "    'Kamala Harris': 'Lost',\n",
    "    'Jill Stein': 'Lost',\n",
    "    'Robert Kennedy': 'Lost',\n",
    "    'Chase Oliver': 'Lost'\n",
    "}\n",
    "\n",
    "# Add to your df\n",
    "df1['won_election'] = df1['candidate'].map(election_results)\n",
    "df1['won'] = df1['won_election'].apply(lambda x: 1 if x == 'Won' else 0)\n",
    "\n",
    "# Compare average sentiment score by win\n",
    "avg_sentiment_win = df1.groupby('won')['sentiment_score'].mean()\n",
    "print(avg_sentiment_win)\n",
    "\n",
    "# Optional: visualize\n",
    "import seaborn as sns\n",
    "import matplotlib.pyplot as plt\n",
    "\n",
    "sns.boxplot(data=df1, x='won_election', y='sentiment_score')\n",
    "plt.title('Sentiment Score vs Election Outcome')\n",
    "plt.xlabel('Election Outcome')\n",
    "plt.ylabel('Average Sentiment Score')\n",
    "plt.show()\n"
   ]
  },
  {
   "cell_type": "markdown",
   "id": "52b6a115",
   "metadata": {},
   "source": [
    "this plot suggests that while candidates who lost generally had positive average sentiment scores, candidates who won exhibited a much broader range of average sentiment scores, from negative to highly positive, with a median around neutral. This might imply that a high average sentiment score isn't necessarily a sole predictor of winning, and winning candidates can have more diverse sentiment profiles."
   ]
  },
  {
   "cell_type": "code",
   "execution_count": 40,
   "id": "002688f7",
   "metadata": {},
   "outputs": [
    {
     "name": "stdout",
     "output_type": "stream",
     "text": [
      "T-statistic: -2.2772089422104163, P-value: 0.045623845061216396\n"
     ]
    }
   ],
   "source": [
    "from scipy.stats import ttest_ind\n",
    "\n",
    "winner_scores = df1[df1['won'] == 1]['sentiment_score']\n",
    "loser_scores = df1[df1['won'] == 0]['sentiment_score']\n",
    "\n",
    "t_stat, p_value = ttest_ind(winner_scores, loser_scores, equal_var=False)\n",
    "print(f\"T-statistic: {t_stat}, P-value: {p_value}\")\n"
   ]
  },
  {
   "cell_type": "markdown",
   "id": "d1c9eadd",
   "metadata": {},
   "source": [
    "If p-value < 0.05, there's a statistically significant difference in sentiment.\n",
    "\n",
    "You can say: \"Positive sentiment was significantly higher for the winning candid"
   ]
  },
  {
   "cell_type": "markdown",
   "id": "4212d1d1",
   "metadata": {},
   "source": [
    "<h1>✅ Interpretation:</h1>\n",
    "Since the p-value is 0.0456, and it's less than the standard significance level of 0.05, we can conclude:\n",
    "\n",
    "🔍 There is a statistically significant difference in the average sentiment score between the winning candidate and others.\n",
    "\n",
    "🧠 What it means practically:\n",
    "The tweets about the winner of the election had a different (lower or higher) average sentiment score compared to the tweets about those who did not win.\n",
    "\n",
    "Because the T-statistic is negative (-2.28), this suggests that the average sentiment score for the winner is lower than for the other candidates.\n",
    "\n",
    "🤔 Possible Explanations:\n",
    "Polarizing candidates (like Trump or Biden) often receive both intense support and criticism, lowering average sentiment despite high attention.\n",
    "\n",
    "Sentiment alone doesn't predict outcomes—but it's related."
   ]
  },
  {
   "cell_type": "code",
   "execution_count": 41,
   "id": "4970c27c",
   "metadata": {},
   "outputs": [
    {
     "data": {
      "image/png": "[encoded data removed]",
      "text/plain": [
       "<Figure size 640x480 with 1 Axes>"
      ]
     },
     "metadata": {},
     "output_type": "display_data"
    }
   ],
   "source": [
    "import seaborn as sns\n",
    "import matplotlib.pyplot as plt\n",
    "\n",
    "sns.boxplot(data=df1, x='won_election', y='sentiment_score')\n",
    "plt.title('Tweet Sentiment vs Election Outcome')\n",
    "plt.xlabel('Election Outcome')\n",
    "plt.ylabel('Sentiment Score')\n",
    "plt.show()\n"
   ]
  },
  {
   "cell_type": "code",
   "execution_count": 47,
   "id": "f898525c",
   "metadata": {},
   "outputs": [
    {
     "data": {
      "image/png": "[encoded data removed]",
      "text/plain": [
       "<Figure size 1000x600 with 1 Axes>"
      ]
     },
     "metadata": {},
     "output_type": "display_data"
    }
   ],
   "source": [
    "import seaborn as sns\n",
    "import matplotlib.pyplot as plt\n",
    "import pandas as pd\n",
    "\n",
    "metrics = ['sentiment_score', 'likes', 'retweets', 'tweet_volume']  # use your actual columns\n",
    "\n",
    "# First, if 'tweet_volume' doesn't exist, create it as tweet count per grouping, e.g., by candidate or date\n",
    "# Example: count tweets per candidate (if needed)\n",
    "if 'tweet_volume' not in df1.columns:\n",
    "    tweet_vol = df1.groupby(['won', 'candidate']).size().reset_index(name='tweet_volume')\n",
    "    df1 = df1.merge(tweet_vol, on=['won', 'candidate'], how='left')\n",
    "\n",
    "# Aggregate by won status\n",
    "avg_metrics = df1.groupby('won')[metrics].mean().reset_index()\n",
    "\n",
    "# Melt for seaborn plotting\n",
    "avg_metrics_melted = avg_metrics.melt(id_vars='won', var_name='Metric', value_name='Average')\n",
    "\n",
    "plt.figure(figsize=(10,6))\n",
    "sns.barplot(data=avg_metrics_melted, x='Metric', y='Average', hue='won')\n",
    "plt.title('Average Sentiment and Engagement Metrics by Win Status')\n",
    "plt.ylabel('Average Value')\n",
    "plt.xlabel('')\n",
    "plt.show()\n"
   ]
  },
  {
   "cell_type": "markdown",
   "id": "2e9b21ca",
   "metadata": {},
   "source": [
    " This chart suggests that winning candidates, on average, receive significantly more engagement in terms of likes and retweets compared to losing candidates. The sentiment_score appears to be relatively neutral for both groups, and tweet_volume is low but slightly higher for winners."
   ]
  },
  {
   "cell_type": "code",
   "execution_count": 48,
   "id": "6eda7527",
   "metadata": {},
   "outputs": [
    {
     "name": "stdout",
     "output_type": "stream",
     "text": [
      "Classification Report:\n",
      "               precision    recall  f1-score   support\n",
      "\n",
      "           0       1.00      1.00      1.00        13\n",
      "           1       1.00      1.00      1.00         2\n",
      "\n",
      "    accuracy                           1.00        15\n",
      "   macro avg       1.00      1.00      1.00        15\n",
      "weighted avg       1.00      1.00      1.00        15\n",
      "\n",
      "Confusion Matrix:\n",
      " [[13  0]\n",
      " [ 0  2]]\n",
      "           Feature  Coefficient\n",
      "1            likes     0.223954\n",
      "3     tweet_volume    -0.000092\n",
      "2         retweets    -0.001702\n",
      "0  sentiment_score    -0.006762\n"
     ]
    }
   ],
   "source": [
    "from sklearn.linear_model import LogisticRegression\n",
    "from sklearn.model_selection import train_test_split\n",
    "from sklearn.metrics import classification_report, confusion_matrix\n",
    "import pandas as pd\n",
    "\n",
    "# Check if tweet_volume exists, else create it (example: number of tweets per candidate)\n",
    "if 'tweet_volume' not in df1.columns:\n",
    "    tweet_vol = df1.groupby(['won', 'candidate']).size().reset_index(name='tweet_volume')\n",
    "    df1 = df1.merge(tweet_vol, on=['won', 'candidate'], how='left')\n",
    "\n",
    "# Features and target\n",
    "X = df1[['sentiment_score', 'likes', 'retweets', 'tweet_volume']]\n",
    "y = df1['won']\n",
    "\n",
    "# Train/test split\n",
    "X_train, X_test, y_train, y_test = train_test_split(X, y, test_size=0.3, random_state=42)\n",
    "\n",
    "# Train logistic regression model\n",
    "model = LogisticRegression(max_iter=1000)\n",
    "model.fit(X_train, y_train)\n",
    "\n",
    "# Predict on test set\n",
    "y_pred = model.predict(X_test)\n",
    "\n",
    "# Evaluation\n",
    "print(\"Classification Report:\\n\", classification_report(y_test, y_pred))\n",
    "print(\"Confusion Matrix:\\n\", confusion_matrix(y_test, y_pred))\n",
    "\n",
    "# Feature coefficients\n",
    "coef_df = pd.DataFrame({\n",
    "    'Feature': X.columns,\n",
    "    'Coefficient': model.coef_[0]\n",
    "}).sort_values(by='Coefficient', ascending=False)\n",
    "\n",
    "print(coef_df)\n"
   ]
  },
  {
   "cell_type": "markdown",
   "id": "9c706f33",
   "metadata": {},
   "source": [
    "<b><h1>Recap of hypothesis:</h1></b>\n",
    "H₀ (Null Hypothesis): Online sentiment does NOT have predictive power over election outcomes.\n",
    "\n",
    "H₁ (Alternative Hypothesis): Online sentiment does show significant predictive power over election outcomes.\n",
    "\n",
    "What your results show:\n",
    "<b><h1>What your results show:</h1></b>\n",
    "Classification Report & Confusion Matrix:\n",
    "Your model predicts perfectly on the test set (100% accuracy, precision, recall, f1-score). This suggests your features combined can predict the election outcome in your data.\n",
    "\n",
    "Coefficients:\n",
    "\n",
    "likes has a positive coefficient (0.224), meaning more likes increase likelihood of predicting \"won\" = 1.\n",
    "\n",
    "tweet_volume and retweets have very small negative coefficients (close to zero).\n",
    "\n",
    "sentiment_score has a very small negative coefficient (-0.0067), suggesting it might not have strong predictive influence here.\n",
    "\n",
    "<b><h1>Interpretation related to your hypothesis:</h1></b>\n",
    "\n",
    "The model overall predicts well (high accuracy), which supports rejecting the null hypothesis (H₀) — i.e., there is predictive power in the features.\n",
    "\n",
    "However, sentiment_score itself has a very weak (slightly negative) coefficient, indicating it may not strongly predict election outcomes by itself in this dataset.\n",
    "\n",
    "Engagement metrics like likes appear more influential in the model.\n",
    "\n",
    "<b><h1>Final conclusion for your hypothesis:</h1></b>\n",
    "\n",
    "You reject H₀ because your model can predict election outcomes from online data.\n",
    "\n",
    "But specifically for online sentiment alone, the evidence is weak here. It might mean sentiment by itself isn’t strongly predictive, but engagement metrics help improve prediction.\n",
    "\n",
    "So the data suggests online data including engagement metrics can predict election outcomes, but sentiment alone may not be enough.\n",
    "\n",
    "<b><h1>Recommendation</h1></b>\n",
    "You can say:\n",
    "\"Online social media data (including engagement metrics like likes and retweets) show predictive ability regarding election outcomes. However, sentiment scores alone have limited influence in this dataset.\"\n",
    "\n",
    "To be more confident, consider larger data samples and statistical significance testing on coefficients.\n",
    "\n"
   ]
  },
  {
   "cell_type": "markdown",
   "id": "f5ee5371",
   "metadata": {},
   "source": [
    "<h1> Restating the hypothesis:<h1>\n",
    "H₀: Online sentiment has no predictive power over election outcomes.\n",
    "\n",
    "H₁: Online sentiment has significant predictive power over election outcomes.\n",
    "\n",
    "<h1> Your findings summarized: </h1>\n",
    "Sentiment varies widely among winners: Some winners have very positive sentiment (1.0), others neutral or slightly positive.\n",
    "\n",
    "Some losing candidates also have positive sentiment: So, a high average sentiment alone does not guarantee a win.\n",
    "\n",
    "Sentiment distribution for winners is more diverse: Suggesting sentiment alone doesn’t strongly differentiate winners from losers.\n",
    "\n",
    "Engagement metrics (likes, retweets) are higher for winners: Indicating that engagement, more than sentiment, might better correlate with winning.\n",
    "\n",
    "Overall sentiment scores for winners and losers are relatively neutral and similar: Meaning sentiment by itself doesn’t show strong predictive power.\n",
    "\n",
    "<h1> Conclusion related to the hypothesis: </h1>\n",
    "Rejecting H₀ completely based on sentiment alone would be premature.\n",
    "Sentiment alone does not clearly predict election outcomes because both winners and losers can have positive or neutral sentiment, and winners have a broad sentiment range.\n",
    "\n",
    "However, the combined social media data (especially engagement metrics like likes and retweets) show stronger predictive signals for election results.\n",
    "This suggests that engagement metrics might be better predictors than sentiment scores alone.\n",
    "\n",
    "So, the alternative hypothesis (H₁) is partially supported:\n",
    "Online social media data including engagement metrics can predict election outcomes,\n",
    "but sentiment alone may not have significant predictive power.\n",
    "\n",
    "<h1> Final takeaway: </h1>\n",
    "While sentiment analysis provides some insight, it is not sufficient by itself to predict election outcomes reliably.\n",
    "Engagement metrics (likes, retweets) appear to be stronger indicators of a candidate’s success.\n",
    "Thus, social media analysis for elections should incorporate both sentiment and engagement data to improve predictive ability.\n",
    "\n"
   ]
  },
  {
   "cell_type": "markdown",
   "id": "e89f54bd",
   "metadata": {},
   "source": []
  }
 ],
 "metadata": {
  "kernelspec": {
   "display_name": "Python 3",
   "language": "python",
   "name": "python3"
  },
  "language_info": {
   "codemirror_mode": {
    "name": "ipython",
    "version": 3
   },
   "file_extension": ".py",
   "mimetype": "text/x-python",
   "name": "python",
   "nbconvert_exporter": "python",
   "pygments_lexer": "ipython3",
   "version": "3.13.2"
  }
 },
 "nbformat": 4,
 "nbformat_minor": 5
}
