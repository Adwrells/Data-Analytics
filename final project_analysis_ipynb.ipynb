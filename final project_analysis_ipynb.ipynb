{
 "cells": [
  {
   "cell_type": "code",
   "execution_count": 104,
   "id": "7f23d3e9",
   "metadata": {},
   "outputs": [
    {
     "ename": "SyntaxError",
     "evalue": "invalid syntax (614022429.py, line 1)",
     "output_type": "error",
     "traceback": [
      "  \u001b[36mCell\u001b[39m\u001b[36m \u001b[39m\u001b[32mIn[104]\u001b[39m\u001b[32m, line 1\u001b[39m\n\u001b[31m    \u001b[39m\u001b[31mData Analytics!!\u001b[39m\n         ^\n\u001b[31mSyntaxError\u001b[39m\u001b[31m:\u001b[39m invalid syntax\n"
     ]
    }
   ],
   "source": [
    "Data Analytics!!\n",
    "\n",
    "Principle of Analytics\n"
   ]
  },
  {
   "cell_type": "markdown",
   "id": "a9624464",
   "metadata": {},
   "source": [
    "Importing code , review them , clean if necessary"
   ]
  },
  {
   "cell_type": "code",
   "execution_count": null,
   "id": "0d2b44c7",
   "metadata": {},
   "outputs": [],
   "source": [
    "import pandas as pd\n",
    "import numpy as np\n",
    "import matplotlib.pyplot as plt\n",
    "import seaborn as sns\n"
   ]
  },
  {
   "cell_type": "markdown",
   "id": "edaeb690",
   "metadata": {},
   "source": [
    "Reading Data from "
   ]
  },
  {
   "cell_type": "code",
   "execution_count": null,
   "id": "105dbbe5",
   "metadata": {},
   "outputs": [],
   "source": [
    "df=pd.read_csv('News_Final.csv')\n"
   ]
  },
  {
   "cell_type": "code",
   "execution_count": null,
   "id": "ac814557",
   "metadata": {},
   "outputs": [
    {
     "data": {
      "text/html": [
       "<div>\n",
       "<style scoped>\n",
       "    .dataframe tbody tr th:only-of-type {\n",
       "        vertical-align: middle;\n",
       "    }\n",
       "\n",
       "    .dataframe tbody tr th {\n",
       "        vertical-align: top;\n",
       "    }\n",
       "\n",
       "    .dataframe thead th {\n",
       "        text-align: right;\n",
       "    }\n",
       "</style>\n",
       "<table border=\"1\" class=\"dataframe\">\n",
       "  <thead>\n",
       "    <tr style=\"text-align: right;\">\n",
       "      <th></th>\n",
       "      <th>IDLink</th>\n",
       "      <th>Title</th>\n",
       "      <th>Headline</th>\n",
       "      <th>Source</th>\n",
       "      <th>Topic</th>\n",
       "      <th>PublishDate</th>\n",
       "      <th>SentimentTitle</th>\n",
       "      <th>SentimentHeadline</th>\n",
       "      <th>Facebook</th>\n",
       "      <th>GooglePlus</th>\n",
       "      <th>LinkedIn</th>\n",
       "    </tr>\n",
       "  </thead>\n",
       "  <tbody>\n",
       "    <tr>\n",
       "      <th>0</th>\n",
       "      <td>99248.0</td>\n",
       "      <td>Obama Lays Wreath at Arlington National Cemetery</td>\n",
       "      <td>Obama Lays Wreath at Arlington National Cemete...</td>\n",
       "      <td>USA TODAY</td>\n",
       "      <td>obama</td>\n",
       "      <td>2002-04-02 00:00:00</td>\n",
       "      <td>0.000000</td>\n",
       "      <td>-0.053300</td>\n",
       "      <td>-1</td>\n",
       "      <td>-1</td>\n",
       "      <td>-1</td>\n",
       "    </tr>\n",
       "    <tr>\n",
       "      <th>1</th>\n",
       "      <td>10423.0</td>\n",
       "      <td>A Look at the Health of the Chinese Economy</td>\n",
       "      <td>Tim Haywood, investment director business-unit...</td>\n",
       "      <td>Bloomberg</td>\n",
       "      <td>economy</td>\n",
       "      <td>2008-09-20 00:00:00</td>\n",
       "      <td>0.208333</td>\n",
       "      <td>-0.156386</td>\n",
       "      <td>-1</td>\n",
       "      <td>-1</td>\n",
       "      <td>-1</td>\n",
       "    </tr>\n",
       "    <tr>\n",
       "      <th>2</th>\n",
       "      <td>18828.0</td>\n",
       "      <td>Nouriel Roubini: Global Economy Not Back to 2008</td>\n",
       "      <td>Nouriel Roubini, NYU professor and chairman at...</td>\n",
       "      <td>Bloomberg</td>\n",
       "      <td>economy</td>\n",
       "      <td>2012-01-28 00:00:00</td>\n",
       "      <td>-0.425210</td>\n",
       "      <td>0.139754</td>\n",
       "      <td>-1</td>\n",
       "      <td>-1</td>\n",
       "      <td>-1</td>\n",
       "    </tr>\n",
       "    <tr>\n",
       "      <th>3</th>\n",
       "      <td>27788.0</td>\n",
       "      <td>Finland GDP Expands In Q4</td>\n",
       "      <td>Finland's economy expanded marginally in the t...</td>\n",
       "      <td>RTT News</td>\n",
       "      <td>economy</td>\n",
       "      <td>2015-03-01 00:06:00</td>\n",
       "      <td>0.000000</td>\n",
       "      <td>0.026064</td>\n",
       "      <td>-1</td>\n",
       "      <td>-1</td>\n",
       "      <td>-1</td>\n",
       "    </tr>\n",
       "    <tr>\n",
       "      <th>4</th>\n",
       "      <td>27789.0</td>\n",
       "      <td>Tourism, govt spending buoys Thai economy in J...</td>\n",
       "      <td>Tourism and public spending continued to boost...</td>\n",
       "      <td>The Nation - Thailand&amp;#39;s English news</td>\n",
       "      <td>economy</td>\n",
       "      <td>2015-03-01 00:11:00</td>\n",
       "      <td>0.000000</td>\n",
       "      <td>0.141084</td>\n",
       "      <td>-1</td>\n",
       "      <td>-1</td>\n",
       "      <td>-1</td>\n",
       "    </tr>\n",
       "  </tbody>\n",
       "</table>\n",
       "</div>"
      ],
      "text/plain": [
       "    IDLink                                              Title  \\\n",
       "0  99248.0   Obama Lays Wreath at Arlington National Cemetery   \n",
       "1  10423.0        A Look at the Health of the Chinese Economy   \n",
       "2  18828.0   Nouriel Roubini: Global Economy Not Back to 2008   \n",
       "3  27788.0                          Finland GDP Expands In Q4   \n",
       "4  27789.0  Tourism, govt spending buoys Thai economy in J...   \n",
       "\n",
       "                                            Headline  \\\n",
       "0  Obama Lays Wreath at Arlington National Cemete...   \n",
       "1  Tim Haywood, investment director business-unit...   \n",
       "2  Nouriel Roubini, NYU professor and chairman at...   \n",
       "3  Finland's economy expanded marginally in the t...   \n",
       "4  Tourism and public spending continued to boost...   \n",
       "\n",
       "                                     Source    Topic          PublishDate  \\\n",
       "0                                 USA TODAY    obama  2002-04-02 00:00:00   \n",
       "1                                 Bloomberg  economy  2008-09-20 00:00:00   \n",
       "2                                 Bloomberg  economy  2012-01-28 00:00:00   \n",
       "3                                  RTT News  economy  2015-03-01 00:06:00   \n",
       "4  The Nation - Thailand&#39;s English news  economy  2015-03-01 00:11:00   \n",
       "\n",
       "   SentimentTitle  SentimentHeadline  Facebook  GooglePlus  LinkedIn  \n",
       "0        0.000000          -0.053300        -1          -1        -1  \n",
       "1        0.208333          -0.156386        -1          -1        -1  \n",
       "2       -0.425210           0.139754        -1          -1        -1  \n",
       "3        0.000000           0.026064        -1          -1        -1  \n",
       "4        0.000000           0.141084        -1          -1        -1  "
      ]
     },
     "execution_count": 24,
     "metadata": {},
     "output_type": "execute_result"
    }
   ],
   "source": [
    "df.head()"
   ]
  },
  {
   "cell_type": "code",
   "execution_count": null,
   "id": "ae772283",
   "metadata": {},
   "outputs": [
    {
     "ename": "SyntaxError",
     "evalue": "invalid syntax (4260025534.py, line 1)",
     "output_type": "error",
     "traceback": [
      "  \u001b[36mCell\u001b[39m\u001b[36m \u001b[39m\u001b[32mIn[25]\u001b[39m\u001b[32m, line 1\u001b[39m\n\u001b[31m    \u001b[39m\u001b[31mchecking for null values\u001b[39m\n             ^\n\u001b[31mSyntaxError\u001b[39m\u001b[31m:\u001b[39m invalid syntax\n"
     ]
    }
   ],
   "source": [
    "checking for null values"
   ]
  },
  {
   "cell_type": "code",
   "execution_count": null,
   "id": "0bb877fb",
   "metadata": {},
   "outputs": [
    {
     "data": {
      "text/plain": [
       "IDLink                 0\n",
       "Title                  0\n",
       "Headline              15\n",
       "Source               279\n",
       "Topic                  0\n",
       "PublishDate            0\n",
       "SentimentTitle         0\n",
       "SentimentHeadline      0\n",
       "Facebook               0\n",
       "GooglePlus             0\n",
       "LinkedIn               0\n",
       "dtype: int64"
      ]
     },
     "execution_count": 26,
     "metadata": {},
     "output_type": "execute_result"
    }
   ],
   "source": [
    "df.isnull().sum()"
   ]
  },
  {
   "cell_type": "code",
   "execution_count": null,
   "id": "0bdd24d7",
   "metadata": {},
   "outputs": [
    {
     "data": {
      "text/plain": [
       "IDLink               0\n",
       "Title                0\n",
       "Headline             0\n",
       "Source               0\n",
       "Topic                0\n",
       "PublishDate          0\n",
       "SentimentTitle       0\n",
       "SentimentHeadline    0\n",
       "Facebook             0\n",
       "GooglePlus           0\n",
       "LinkedIn             0\n",
       "dtype: int64"
      ]
     },
     "execution_count": 27,
     "metadata": {},
     "output_type": "execute_result"
    }
   ],
   "source": [
    "df.dropna(inplace=True)\n",
    "df.isnull().sum()"
   ]
  },
  {
   "cell_type": "code",
   "execution_count": null,
   "id": "b515a066",
   "metadata": {},
   "outputs": [
    {
     "data": {
      "text/plain": [
       "(92945, 11)"
      ]
     },
     "execution_count": 28,
     "metadata": {},
     "output_type": "execute_result"
    }
   ],
   "source": [
    "df.head()\n",
    "df.shape"
   ]
  },
  {
   "cell_type": "code",
   "execution_count": null,
   "id": "8bee74d2",
   "metadata": {},
   "outputs": [
    {
     "data": {
      "text/html": [
       "<div>\n",
       "<style scoped>\n",
       "    .dataframe tbody tr th:only-of-type {\n",
       "        vertical-align: middle;\n",
       "    }\n",
       "\n",
       "    .dataframe tbody tr th {\n",
       "        vertical-align: top;\n",
       "    }\n",
       "\n",
       "    .dataframe thead th {\n",
       "        text-align: right;\n",
       "    }\n",
       "</style>\n",
       "<table border=\"1\" class=\"dataframe\">\n",
       "  <thead>\n",
       "    <tr style=\"text-align: right;\">\n",
       "      <th></th>\n",
       "      <th>IDLink</th>\n",
       "      <th>Title</th>\n",
       "      <th>Headline</th>\n",
       "      <th>Source</th>\n",
       "      <th>Topic</th>\n",
       "      <th>PublishDate</th>\n",
       "      <th>SentimentTitle</th>\n",
       "      <th>SentimentHeadline</th>\n",
       "      <th>Facebook</th>\n",
       "      <th>GooglePlus</th>\n",
       "      <th>LinkedIn</th>\n",
       "    </tr>\n",
       "  </thead>\n",
       "  <tbody>\n",
       "    <tr>\n",
       "      <th>0</th>\n",
       "      <td>99248.0</td>\n",
       "      <td>Obama Lays Wreath at Arlington National Cemetery</td>\n",
       "      <td>Obama Lays Wreath at Arlington National Cemete...</td>\n",
       "      <td>USA TODAY</td>\n",
       "      <td>obama</td>\n",
       "      <td>2002-04-02 00:00:00</td>\n",
       "      <td>0.000000</td>\n",
       "      <td>-0.053300</td>\n",
       "      <td>-1</td>\n",
       "      <td>-1</td>\n",
       "      <td>-1</td>\n",
       "    </tr>\n",
       "    <tr>\n",
       "      <th>1</th>\n",
       "      <td>10423.0</td>\n",
       "      <td>A Look at the Health of the Chinese Economy</td>\n",
       "      <td>Tim Haywood, investment director business-unit...</td>\n",
       "      <td>Bloomberg</td>\n",
       "      <td>economy</td>\n",
       "      <td>2008-09-20 00:00:00</td>\n",
       "      <td>0.208333</td>\n",
       "      <td>-0.156386</td>\n",
       "      <td>-1</td>\n",
       "      <td>-1</td>\n",
       "      <td>-1</td>\n",
       "    </tr>\n",
       "    <tr>\n",
       "      <th>2</th>\n",
       "      <td>18828.0</td>\n",
       "      <td>Nouriel Roubini: Global Economy Not Back to 2008</td>\n",
       "      <td>Nouriel Roubini, NYU professor and chairman at...</td>\n",
       "      <td>Bloomberg</td>\n",
       "      <td>economy</td>\n",
       "      <td>2012-01-28 00:00:00</td>\n",
       "      <td>-0.425210</td>\n",
       "      <td>0.139754</td>\n",
       "      <td>-1</td>\n",
       "      <td>-1</td>\n",
       "      <td>-1</td>\n",
       "    </tr>\n",
       "    <tr>\n",
       "      <th>3</th>\n",
       "      <td>27788.0</td>\n",
       "      <td>Finland GDP Expands In Q4</td>\n",
       "      <td>Finland's economy expanded marginally in the t...</td>\n",
       "      <td>RTT News</td>\n",
       "      <td>economy</td>\n",
       "      <td>2015-03-01 00:06:00</td>\n",
       "      <td>0.000000</td>\n",
       "      <td>0.026064</td>\n",
       "      <td>-1</td>\n",
       "      <td>-1</td>\n",
       "      <td>-1</td>\n",
       "    </tr>\n",
       "    <tr>\n",
       "      <th>4</th>\n",
       "      <td>27789.0</td>\n",
       "      <td>Tourism, govt spending buoys Thai economy in J...</td>\n",
       "      <td>Tourism and public spending continued to boost...</td>\n",
       "      <td>The Nation - Thailand&amp;#39;s English news</td>\n",
       "      <td>economy</td>\n",
       "      <td>2015-03-01 00:11:00</td>\n",
       "      <td>0.000000</td>\n",
       "      <td>0.141084</td>\n",
       "      <td>-1</td>\n",
       "      <td>-1</td>\n",
       "      <td>-1</td>\n",
       "    </tr>\n",
       "  </tbody>\n",
       "</table>\n",
       "</div>"
      ],
      "text/plain": [
       "    IDLink                                              Title  \\\n",
       "0  99248.0   Obama Lays Wreath at Arlington National Cemetery   \n",
       "1  10423.0        A Look at the Health of the Chinese Economy   \n",
       "2  18828.0   Nouriel Roubini: Global Economy Not Back to 2008   \n",
       "3  27788.0                          Finland GDP Expands In Q4   \n",
       "4  27789.0  Tourism, govt spending buoys Thai economy in J...   \n",
       "\n",
       "                                            Headline  \\\n",
       "0  Obama Lays Wreath at Arlington National Cemete...   \n",
       "1  Tim Haywood, investment director business-unit...   \n",
       "2  Nouriel Roubini, NYU professor and chairman at...   \n",
       "3  Finland's economy expanded marginally in the t...   \n",
       "4  Tourism and public spending continued to boost...   \n",
       "\n",
       "                                     Source    Topic          PublishDate  \\\n",
       "0                                 USA TODAY    obama  2002-04-02 00:00:00   \n",
       "1                                 Bloomberg  economy  2008-09-20 00:00:00   \n",
       "2                                 Bloomberg  economy  2012-01-28 00:00:00   \n",
       "3                                  RTT News  economy  2015-03-01 00:06:00   \n",
       "4  The Nation - Thailand&#39;s English news  economy  2015-03-01 00:11:00   \n",
       "\n",
       "   SentimentTitle  SentimentHeadline  Facebook  GooglePlus  LinkedIn  \n",
       "0        0.000000          -0.053300        -1          -1        -1  \n",
       "1        0.208333          -0.156386        -1          -1        -1  \n",
       "2       -0.425210           0.139754        -1          -1        -1  \n",
       "3        0.000000           0.026064        -1          -1        -1  \n",
       "4        0.000000           0.141084        -1          -1        -1  "
      ]
     },
     "execution_count": 29,
     "metadata": {},
     "output_type": "execute_result"
    }
   ],
   "source": [
    "df.head()"
   ]
  },
  {
   "cell_type": "markdown",
   "id": "3d3e1e8f",
   "metadata": {},
   "source": [
    "Check for duplicate values"
   ]
  },
  {
   "cell_type": "code",
   "execution_count": null,
   "id": "84478374",
   "metadata": {},
   "outputs": [
    {
     "data": {
      "text/plain": [
       "np.int64(1)"
      ]
     },
     "execution_count": 30,
     "metadata": {},
     "output_type": "execute_result"
    }
   ],
   "source": [
    "df.duplicated().sum()\n"
   ]
  },
  {
   "cell_type": "code",
   "execution_count": null,
   "id": "e3e90963",
   "metadata": {},
   "outputs": [
    {
     "data": {
      "text/plain": [
       "np.int64(0)"
      ]
     },
     "execution_count": 31,
     "metadata": {},
     "output_type": "execute_result"
    }
   ],
   "source": [
    "# Remove duplicates\n",
    "df.drop_duplicates(inplace=True)\n",
    "df.duplicated().sum()\n"
   ]
  },
  {
   "cell_type": "markdown",
   "id": "3ed351f7",
   "metadata": {},
   "source": [
    "Filtering unique values in Topics"
   ]
  },
  {
   "cell_type": "code",
   "execution_count": null,
   "id": "4a8c7839",
   "metadata": {},
   "outputs": [
    {
     "name": "stdout",
     "output_type": "stream",
     "text": [
      "['obama' 'economy' 'microsoft' 'palestine']\n"
     ]
    }
   ],
   "source": [
    "print(df['Topic'].unique())\n",
    "\n"
   ]
  },
  {
   "cell_type": "markdown",
   "id": "538215f2",
   "metadata": {},
   "source": [
    "Identifying Outliers in the dataset"
   ]
  },
  {
   "cell_type": "code",
   "execution_count": null,
   "id": "847f4364",
   "metadata": {},
   "outputs": [
    {
     "data": {
      "text/plain": [
       "IDLink               1955\n",
       "Title                1955\n",
       "Headline             1955\n",
       "Source               1955\n",
       "Topic                1955\n",
       "PublishDate          1955\n",
       "SentimentTitle       1955\n",
       "SentimentHeadline    1955\n",
       "Facebook             1955\n",
       "GooglePlus           1955\n",
       "LinkedIn             1955\n",
       "dtype: int64"
      ]
     },
     "execution_count": 34,
     "metadata": {},
     "output_type": "execute_result"
    }
   ],
   "source": [
    "Q1 = df['SentimentHeadline'].quantile(0.25)\n",
    "Q3 = df['SentimentHeadline'].quantile(0.75)\n",
    "IQR = Q3 - Q1\n",
    "df[(df['SentimentHeadline'] < Q1 - 1.5 * IQR) | (df['SentimentHeadline'] > Q3 + 1.5 * IQR)]\n",
    "df[(df['SentimentHeadline'] < Q1 - 1.5 * IQR) | (df['SentimentHeadline'] > Q3 + 1.5 * IQR)].count()\n",
    "\n",
    "\n"
   ]
  },
  {
   "cell_type": "code",
   "execution_count": null,
   "id": "0d6c7f2e",
   "metadata": {},
   "outputs": [],
   "source": [
    "Removing outliers usinf IQR method"
   ]
  },
  {
   "cell_type": "code",
   "execution_count": null,
   "id": "27e4c71c",
   "metadata": {},
   "outputs": [
    {
     "name": "stdout",
     "output_type": "stream",
     "text": [
      "         IDLink                                              Title  \\\n",
      "0       99248.0   Obama Lays Wreath at Arlington National Cemetery   \n",
      "1       10423.0        A Look at the Health of the Chinese Economy   \n",
      "2       18828.0   Nouriel Roubini: Global Economy Not Back to 2008   \n",
      "3       27788.0                          Finland GDP Expands In Q4   \n",
      "4       27789.0  Tourism, govt spending buoys Thai economy in J...   \n",
      "...         ...                                                ...   \n",
      "93234   61851.0  Stocks rise as investors key in on US economy ...   \n",
      "93235   61865.0  Russian PM proposes to use conservative and to...   \n",
      "93236  104793.0  Palestinian Government Uses Foreign Aid To Pay...   \n",
      "93237  104794.0  Palestine Youth Orchestra prepares for first U...   \n",
      "93238   61870.0  Sausalito businesswoman wins $10000 in Microso...   \n",
      "\n",
      "                                                Headline  \\\n",
      "0      Obama Lays Wreath at Arlington National Cemete...   \n",
      "1      Tim Haywood, investment director business-unit...   \n",
      "2      Nouriel Roubini, NYU professor and chairman at...   \n",
      "3      Finland's economy expanded marginally in the t...   \n",
      "4      Tourism and public spending continued to boost...   \n",
      "...                                                  ...   \n",
      "93234  The June employment report is viewed as a cruc...   \n",
      "93235  In addition, establish stimulating economic po...   \n",
      "93236  The Palestinian government spends nearly $140 ...   \n",
      "93237  Palestine Youth Orchestra prepares for first U...   \n",
      "93238  Goldstein, the proprietor of the TG Travel Gro...   \n",
      "\n",
      "                                         Source      Topic  \\\n",
      "0                                     USA TODAY      obama   \n",
      "1                                     Bloomberg    economy   \n",
      "2                                     Bloomberg    economy   \n",
      "3                                      RTT News    economy   \n",
      "4      The Nation - Thailand&#39;s English news    economy   \n",
      "...                                         ...        ...   \n",
      "93234                               MarketWatch    economy   \n",
      "93235                                      TASS    economy   \n",
      "93236                              Daily Caller  palestine   \n",
      "93237                              Ahram Online  palestine   \n",
      "93238                            East Bay Times  microsoft   \n",
      "\n",
      "               PublishDate  SentimentTitle  SentimentHeadline  Facebook  \\\n",
      "0      2002-04-02 00:00:00        0.000000          -0.053300        -1   \n",
      "1      2008-09-20 00:00:00        0.208333          -0.156386        -1   \n",
      "2      2012-01-28 00:00:00       -0.425210           0.139754        -1   \n",
      "3      2015-03-01 00:06:00        0.000000           0.026064        -1   \n",
      "4      2015-03-01 00:11:00        0.000000           0.141084        -1   \n",
      "...                    ...             ...                ...       ...   \n",
      "93234  2016-07-07 15:31:05        0.104284           0.044943        -1   \n",
      "93235  2016-07-07 15:31:10        0.072194           0.000000        -1   \n",
      "93236  2016-07-07 15:38:26        0.291667          -0.139754         5   \n",
      "93237  2016-07-07 15:59:22        0.121534           0.092313         0   \n",
      "93238  2016-07-07 16:16:11        0.000000           0.054554        -1   \n",
      "\n",
      "       GooglePlus  LinkedIn  \n",
      "0              -1        -1  \n",
      "1              -1        -1  \n",
      "2              -1        -1  \n",
      "3              -1        -1  \n",
      "4              -1        -1  \n",
      "...           ...       ...  \n",
      "93234           3         5  \n",
      "93235           0         1  \n",
      "93236           1         0  \n",
      "93237           0         0  \n",
      "93238           1         0  \n",
      "\n",
      "[90989 rows x 11 columns]\n"
     ]
    }
   ],
   "source": [
    "# Calculate Q1, Q3, and IQR\n",
    "Q1 = df['SentimentHeadline'].quantile(0.25)\n",
    "Q3 = df['SentimentHeadline'].quantile(0.75)\n",
    "IQR = Q3 - Q1\n",
    "\n",
    "# Define bounds\n",
    "lower_bound = Q1 - 1.5 * IQR\n",
    "upper_bound = Q3 + 1.5 * IQR\n",
    "\n",
    "# Filter out the outliers (keep only non-outliers)\n",
    "df_clean = df[(df['SentimentHeadline'] >= lower_bound) & (df['SentimentHeadline'] <= upper_bound)]\n",
    "\n",
    "# Optional: Replace original DataFrame\n",
    "df = df_clean\n",
    "\n",
    "# Show cleaned data\n",
    "print(df)\n"
   ]
  },
  {
   "cell_type": "code",
   "execution_count": null,
   "id": "ef40cc08",
   "metadata": {},
   "outputs": [
    {
     "data": {
      "text/html": [
       "<div>\n",
       "<style scoped>\n",
       "    .dataframe tbody tr th:only-of-type {\n",
       "        vertical-align: middle;\n",
       "    }\n",
       "\n",
       "    .dataframe tbody tr th {\n",
       "        vertical-align: top;\n",
       "    }\n",
       "\n",
       "    .dataframe thead th {\n",
       "        text-align: right;\n",
       "    }\n",
       "</style>\n",
       "<table border=\"1\" class=\"dataframe\">\n",
       "  <thead>\n",
       "    <tr style=\"text-align: right;\">\n",
       "      <th></th>\n",
       "      <th>IDLink</th>\n",
       "      <th>Title</th>\n",
       "      <th>Headline</th>\n",
       "      <th>Source</th>\n",
       "      <th>Topic</th>\n",
       "      <th>PublishDate</th>\n",
       "      <th>SentimentTitle</th>\n",
       "      <th>SentimentHeadline</th>\n",
       "      <th>Facebook</th>\n",
       "      <th>GooglePlus</th>\n",
       "      <th>LinkedIn</th>\n",
       "    </tr>\n",
       "  </thead>\n",
       "  <tbody>\n",
       "    <tr>\n",
       "      <th>0</th>\n",
       "      <td>99248.0</td>\n",
       "      <td>Obama Lays Wreath at Arlington National Cemetery</td>\n",
       "      <td>Obama Lays Wreath at Arlington National Cemete...</td>\n",
       "      <td>USA TODAY</td>\n",
       "      <td>obama</td>\n",
       "      <td>2002-04-02 00:00:00</td>\n",
       "      <td>0.000000</td>\n",
       "      <td>-0.053300</td>\n",
       "      <td>-1</td>\n",
       "      <td>-1</td>\n",
       "      <td>-1</td>\n",
       "    </tr>\n",
       "    <tr>\n",
       "      <th>1</th>\n",
       "      <td>10423.0</td>\n",
       "      <td>A Look at the Health of the Chinese Economy</td>\n",
       "      <td>Tim Haywood, investment director business-unit...</td>\n",
       "      <td>Bloomberg</td>\n",
       "      <td>economy</td>\n",
       "      <td>2008-09-20 00:00:00</td>\n",
       "      <td>0.208333</td>\n",
       "      <td>-0.156386</td>\n",
       "      <td>-1</td>\n",
       "      <td>-1</td>\n",
       "      <td>-1</td>\n",
       "    </tr>\n",
       "    <tr>\n",
       "      <th>2</th>\n",
       "      <td>18828.0</td>\n",
       "      <td>Nouriel Roubini: Global Economy Not Back to 2008</td>\n",
       "      <td>Nouriel Roubini, NYU professor and chairman at...</td>\n",
       "      <td>Bloomberg</td>\n",
       "      <td>economy</td>\n",
       "      <td>2012-01-28 00:00:00</td>\n",
       "      <td>-0.425210</td>\n",
       "      <td>0.139754</td>\n",
       "      <td>-1</td>\n",
       "      <td>-1</td>\n",
       "      <td>-1</td>\n",
       "    </tr>\n",
       "    <tr>\n",
       "      <th>3</th>\n",
       "      <td>27788.0</td>\n",
       "      <td>Finland GDP Expands In Q4</td>\n",
       "      <td>Finland's economy expanded marginally in the t...</td>\n",
       "      <td>RTT News</td>\n",
       "      <td>economy</td>\n",
       "      <td>2015-03-01 00:06:00</td>\n",
       "      <td>0.000000</td>\n",
       "      <td>0.026064</td>\n",
       "      <td>-1</td>\n",
       "      <td>-1</td>\n",
       "      <td>-1</td>\n",
       "    </tr>\n",
       "    <tr>\n",
       "      <th>4</th>\n",
       "      <td>27789.0</td>\n",
       "      <td>Tourism, govt spending buoys Thai economy in J...</td>\n",
       "      <td>Tourism and public spending continued to boost...</td>\n",
       "      <td>The Nation - Thailand&amp;#39;s English news</td>\n",
       "      <td>economy</td>\n",
       "      <td>2015-03-01 00:11:00</td>\n",
       "      <td>0.000000</td>\n",
       "      <td>0.141084</td>\n",
       "      <td>-1</td>\n",
       "      <td>-1</td>\n",
       "      <td>-1</td>\n",
       "    </tr>\n",
       "  </tbody>\n",
       "</table>\n",
       "</div>"
      ],
      "text/plain": [
       "    IDLink                                              Title  \\\n",
       "0  99248.0   Obama Lays Wreath at Arlington National Cemetery   \n",
       "1  10423.0        A Look at the Health of the Chinese Economy   \n",
       "2  18828.0   Nouriel Roubini: Global Economy Not Back to 2008   \n",
       "3  27788.0                          Finland GDP Expands In Q4   \n",
       "4  27789.0  Tourism, govt spending buoys Thai economy in J...   \n",
       "\n",
       "                                            Headline  \\\n",
       "0  Obama Lays Wreath at Arlington National Cemete...   \n",
       "1  Tim Haywood, investment director business-unit...   \n",
       "2  Nouriel Roubini, NYU professor and chairman at...   \n",
       "3  Finland's economy expanded marginally in the t...   \n",
       "4  Tourism and public spending continued to boost...   \n",
       "\n",
       "                                     Source    Topic          PublishDate  \\\n",
       "0                                 USA TODAY    obama  2002-04-02 00:00:00   \n",
       "1                                 Bloomberg  economy  2008-09-20 00:00:00   \n",
       "2                                 Bloomberg  economy  2012-01-28 00:00:00   \n",
       "3                                  RTT News  economy  2015-03-01 00:06:00   \n",
       "4  The Nation - Thailand&#39;s English news  economy  2015-03-01 00:11:00   \n",
       "\n",
       "   SentimentTitle  SentimentHeadline  Facebook  GooglePlus  LinkedIn  \n",
       "0        0.000000          -0.053300        -1          -1        -1  \n",
       "1        0.208333          -0.156386        -1          -1        -1  \n",
       "2       -0.425210           0.139754        -1          -1        -1  \n",
       "3        0.000000           0.026064        -1          -1        -1  \n",
       "4        0.000000           0.141084        -1          -1        -1  "
      ]
     },
     "execution_count": 36,
     "metadata": {},
     "output_type": "execute_result"
    }
   ],
   "source": [
    "df.head()"
   ]
  },
  {
   "cell_type": "code",
   "execution_count": null,
   "id": "02e985a1",
   "metadata": {},
   "outputs": [
    {
     "data": {
      "text/plain": [
       "(90989, 11)"
      ]
     },
     "execution_count": 37,
     "metadata": {},
     "output_type": "execute_result"
    }
   ],
   "source": [
    "df.shape"
   ]
  },
  {
   "cell_type": "code",
   "execution_count": null,
   "id": "645c7282",
   "metadata": {},
   "outputs": [
    {
     "name": "stdout",
     "output_type": "stream",
     "text": [
      "              IDLink  SentimentTitle  SentimentHeadline      Facebook  \\\n",
      "count   90989.000000    90989.000000       90989.000000  90989.000000   \n",
      "mean    51549.978668       -0.005308          -0.027177    113.319962   \n",
      "std     30393.310609        0.135222           0.129277    619.344292   \n",
      "min         1.000000       -0.950694          -0.376184     -1.000000   \n",
      "25%     24320.000000       -0.078005          -0.111803      0.000000   \n",
      "50%     52256.000000        0.000000          -0.026064      5.000000   \n",
      "75%     76502.000000        0.064047           0.057354     33.000000   \n",
      "max    104802.000000        0.962354           0.321435  49211.000000   \n",
      "\n",
      "         GooglePlus      LinkedIn  \n",
      "count  90989.000000  90989.000000  \n",
      "mean       3.898131     16.552627  \n",
      "std       18.553213    155.027290  \n",
      "min       -1.000000     -1.000000  \n",
      "25%        0.000000      0.000000  \n",
      "50%        0.000000      0.000000  \n",
      "75%        2.000000      4.000000  \n",
      "max     1267.000000  20341.000000  \n"
     ]
    }
   ],
   "source": [
    "# Show summary stats for all numeric columns\n",
    "print(df.describe())\n"
   ]
  },
  {
   "cell_type": "markdown",
   "id": "d32d97ba",
   "metadata": {},
   "source": [
    "Counting Negative Values"
   ]
  },
  {
   "cell_type": "code",
   "execution_count": null,
   "id": "997cce99",
   "metadata": {},
   "outputs": [
    {
     "data": {
      "text/html": [
       "<div>\n",
       "<style scoped>\n",
       "    .dataframe tbody tr th:only-of-type {\n",
       "        vertical-align: middle;\n",
       "    }\n",
       "\n",
       "    .dataframe tbody tr th {\n",
       "        vertical-align: top;\n",
       "    }\n",
       "\n",
       "    .dataframe thead th {\n",
       "        text-align: right;\n",
       "    }\n",
       "</style>\n",
       "<table border=\"1\" class=\"dataframe\">\n",
       "  <thead>\n",
       "    <tr style=\"text-align: right;\">\n",
       "      <th></th>\n",
       "      <th>IDLink</th>\n",
       "      <th>Title</th>\n",
       "      <th>Headline</th>\n",
       "      <th>Source</th>\n",
       "      <th>Topic</th>\n",
       "      <th>PublishDate</th>\n",
       "      <th>SentimentTitle</th>\n",
       "      <th>SentimentHeadline</th>\n",
       "      <th>Facebook</th>\n",
       "      <th>GooglePlus</th>\n",
       "      <th>LinkedIn</th>\n",
       "    </tr>\n",
       "  </thead>\n",
       "  <tbody>\n",
       "    <tr>\n",
       "      <th>0</th>\n",
       "      <td>99248.0</td>\n",
       "      <td>Obama Lays Wreath at Arlington National Cemetery</td>\n",
       "      <td>Obama Lays Wreath at Arlington National Cemete...</td>\n",
       "      <td>USA TODAY</td>\n",
       "      <td>obama</td>\n",
       "      <td>2002-04-02 00:00:00</td>\n",
       "      <td>0.000000</td>\n",
       "      <td>-0.053300</td>\n",
       "      <td>-1</td>\n",
       "      <td>-1</td>\n",
       "      <td>-1</td>\n",
       "    </tr>\n",
       "    <tr>\n",
       "      <th>1</th>\n",
       "      <td>10423.0</td>\n",
       "      <td>A Look at the Health of the Chinese Economy</td>\n",
       "      <td>Tim Haywood, investment director business-unit...</td>\n",
       "      <td>Bloomberg</td>\n",
       "      <td>economy</td>\n",
       "      <td>2008-09-20 00:00:00</td>\n",
       "      <td>0.208333</td>\n",
       "      <td>-0.156386</td>\n",
       "      <td>-1</td>\n",
       "      <td>-1</td>\n",
       "      <td>-1</td>\n",
       "    </tr>\n",
       "    <tr>\n",
       "      <th>2</th>\n",
       "      <td>18828.0</td>\n",
       "      <td>Nouriel Roubini: Global Economy Not Back to 2008</td>\n",
       "      <td>Nouriel Roubini, NYU professor and chairman at...</td>\n",
       "      <td>Bloomberg</td>\n",
       "      <td>economy</td>\n",
       "      <td>2012-01-28 00:00:00</td>\n",
       "      <td>-0.425210</td>\n",
       "      <td>0.139754</td>\n",
       "      <td>-1</td>\n",
       "      <td>-1</td>\n",
       "      <td>-1</td>\n",
       "    </tr>\n",
       "    <tr>\n",
       "      <th>3</th>\n",
       "      <td>27788.0</td>\n",
       "      <td>Finland GDP Expands In Q4</td>\n",
       "      <td>Finland's economy expanded marginally in the t...</td>\n",
       "      <td>RTT News</td>\n",
       "      <td>economy</td>\n",
       "      <td>2015-03-01 00:06:00</td>\n",
       "      <td>0.000000</td>\n",
       "      <td>0.026064</td>\n",
       "      <td>-1</td>\n",
       "      <td>-1</td>\n",
       "      <td>-1</td>\n",
       "    </tr>\n",
       "    <tr>\n",
       "      <th>4</th>\n",
       "      <td>27789.0</td>\n",
       "      <td>Tourism, govt spending buoys Thai economy in J...</td>\n",
       "      <td>Tourism and public spending continued to boost...</td>\n",
       "      <td>The Nation - Thailand&amp;#39;s English news</td>\n",
       "      <td>economy</td>\n",
       "      <td>2015-03-01 00:11:00</td>\n",
       "      <td>0.000000</td>\n",
       "      <td>0.141084</td>\n",
       "      <td>-1</td>\n",
       "      <td>-1</td>\n",
       "      <td>-1</td>\n",
       "    </tr>\n",
       "  </tbody>\n",
       "</table>\n",
       "</div>"
      ],
      "text/plain": [
       "    IDLink                                              Title  \\\n",
       "0  99248.0   Obama Lays Wreath at Arlington National Cemetery   \n",
       "1  10423.0        A Look at the Health of the Chinese Economy   \n",
       "2  18828.0   Nouriel Roubini: Global Economy Not Back to 2008   \n",
       "3  27788.0                          Finland GDP Expands In Q4   \n",
       "4  27789.0  Tourism, govt spending buoys Thai economy in J...   \n",
       "\n",
       "                                            Headline  \\\n",
       "0  Obama Lays Wreath at Arlington National Cemete...   \n",
       "1  Tim Haywood, investment director business-unit...   \n",
       "2  Nouriel Roubini, NYU professor and chairman at...   \n",
       "3  Finland's economy expanded marginally in the t...   \n",
       "4  Tourism and public spending continued to boost...   \n",
       "\n",
       "                                     Source    Topic          PublishDate  \\\n",
       "0                                 USA TODAY    obama  2002-04-02 00:00:00   \n",
       "1                                 Bloomberg  economy  2008-09-20 00:00:00   \n",
       "2                                 Bloomberg  economy  2012-01-28 00:00:00   \n",
       "3                                  RTT News  economy  2015-03-01 00:06:00   \n",
       "4  The Nation - Thailand&#39;s English news  economy  2015-03-01 00:11:00   \n",
       "\n",
       "   SentimentTitle  SentimentHeadline  Facebook  GooglePlus  LinkedIn  \n",
       "0        0.000000          -0.053300        -1          -1        -1  \n",
       "1        0.208333          -0.156386        -1          -1        -1  \n",
       "2       -0.425210           0.139754        -1          -1        -1  \n",
       "3        0.000000           0.026064        -1          -1        -1  \n",
       "4        0.000000           0.141084        -1          -1        -1  "
      ]
     },
     "execution_count": 39,
     "metadata": {},
     "output_type": "execute_result"
    }
   ],
   "source": [
    "df.head()"
   ]
  },
  {
   "cell_type": "code",
   "execution_count": null,
   "id": "3edf05c7",
   "metadata": {},
   "outputs": [
    {
     "name": "stdout",
     "output_type": "stream",
     "text": [
      "Facebook      11291\n",
      "GooglePlus     5578\n",
      "LinkedIn       5579\n",
      "dtype: int64\n"
     ]
    }
   ],
   "source": [
    "social_cols = ['Facebook', 'GooglePlus', 'LinkedIn']\n",
    "neg_counts = (df[social_cols] < 0).sum()\n",
    "print(neg_counts)\n"
   ]
  },
  {
   "cell_type": "markdown",
   "id": "cb34f251",
   "metadata": {},
   "source": [
    "Counting positive values"
   ]
  },
  {
   "cell_type": "code",
   "execution_count": null,
   "id": "81eebbe6",
   "metadata": {},
   "outputs": [
    {
     "name": "stdout",
     "output_type": "stream",
     "text": [
      "Facebook      63409\n",
      "GooglePlus    36118\n",
      "LinkedIn      36793\n",
      "dtype: int64\n"
     ]
    }
   ],
   "source": [
    "social_cols = ['Facebook', 'GooglePlus', 'LinkedIn']\n",
    "neg_counts = (df[social_cols] > 0).sum()\n",
    "print(neg_counts)\n"
   ]
  },
  {
   "cell_type": "markdown",
   "id": "b9a5a247",
   "metadata": {},
   "source": [
    "Removing Outliers in SentimentTitle Column  "
   ]
  },
  {
   "cell_type": "code",
   "execution_count": null,
   "id": "a712f558",
   "metadata": {},
   "outputs": [
    {
     "name": "stdout",
     "output_type": "stream",
     "text": [
      "         IDLink                                              Title  \\\n",
      "0       99248.0   Obama Lays Wreath at Arlington National Cemetery   \n",
      "1       10423.0        A Look at the Health of the Chinese Economy   \n",
      "3       27788.0                          Finland GDP Expands In Q4   \n",
      "4       27789.0  Tourism, govt spending buoys Thai economy in J...   \n",
      "5       27790.0  Intellitec Solutions to Host 13th Annual Sprin...   \n",
      "...         ...                                                ...   \n",
      "93233  104799.0        Tournoi de foot solidaire pour la Palestine   \n",
      "93234   61851.0  Stocks rise as investors key in on US economy ...   \n",
      "93235   61865.0  Russian PM proposes to use conservative and to...   \n",
      "93237  104794.0  Palestine Youth Orchestra prepares for first U...   \n",
      "93238   61870.0  Sausalito businesswoman wins $10000 in Microso...   \n",
      "\n",
      "                                                Headline  \\\n",
      "0      Obama Lays Wreath at Arlington National Cemete...   \n",
      "1      Tim Haywood, investment director business-unit...   \n",
      "3      Finland's economy expanded marginally in the t...   \n",
      "4      Tourism and public spending continued to boost...   \n",
      "5      Over 100 attendees expected to see latest vers...   \n",
      "...                                                  ...   \n",
      "93233  Dans le cadre de la campagne annuelle de solid...   \n",
      "93234  The June employment report is viewed as a cruc...   \n",
      "93235  In addition, establish stimulating economic po...   \n",
      "93237  Palestine Youth Orchestra prepares for first U...   \n",
      "93238  Goldstein, the proprietor of the TG Travel Gro...   \n",
      "\n",
      "                                         Source      Topic  \\\n",
      "0                                     USA TODAY      obama   \n",
      "1                                     Bloomberg    economy   \n",
      "3                                      RTT News    economy   \n",
      "4      The Nation - Thailand&#39;s English news    economy   \n",
      "5                                         PRWeb  microsoft   \n",
      "...                                         ...        ...   \n",
      "93233                                L'Humanité  palestine   \n",
      "93234                               MarketWatch    economy   \n",
      "93235                                      TASS    economy   \n",
      "93237                              Ahram Online  palestine   \n",
      "93238                            East Bay Times  microsoft   \n",
      "\n",
      "               PublishDate  SentimentTitle  SentimentHeadline  Facebook  \\\n",
      "0      2002-04-02 00:00:00        0.000000          -0.053300        -1   \n",
      "1      2008-09-20 00:00:00        0.208333          -0.156386        -1   \n",
      "3      2015-03-01 00:06:00        0.000000           0.026064        -1   \n",
      "4      2015-03-01 00:11:00        0.000000           0.141084        -1   \n",
      "5      2015-03-01 00:19:00       -0.075378           0.036773        -1   \n",
      "...                    ...             ...                ...       ...   \n",
      "93233  2016-07-07 15:20:27       -0.047246          -0.106600         4   \n",
      "93234  2016-07-07 15:31:05        0.104284           0.044943        -1   \n",
      "93235  2016-07-07 15:31:10        0.072194           0.000000        -1   \n",
      "93237  2016-07-07 15:59:22        0.121534           0.092313         0   \n",
      "93238  2016-07-07 16:16:11        0.000000           0.054554        -1   \n",
      "\n",
      "       GooglePlus  LinkedIn  \n",
      "0              -1        -1  \n",
      "1              -1        -1  \n",
      "3              -1        -1  \n",
      "4              -1        -1  \n",
      "5              -1        -1  \n",
      "...           ...       ...  \n",
      "93233           0         0  \n",
      "93234           3         5  \n",
      "93235           0         1  \n",
      "93237           0         0  \n",
      "93238           1         0  \n",
      "\n",
      "[86485 rows x 11 columns]\n"
     ]
    }
   ],
   "source": [
    "Q1 = df['SentimentTitle'].quantile(0.25)\n",
    "Q3 = df['SentimentTitle'].quantile(0.75)\n",
    "IQR = Q3 - Q1\n",
    "\n",
    "# Define bounds\n",
    "lower_bound = Q1 - 1.5 * IQR\n",
    "upper_bound = Q3 + 1.5 * IQR\n",
    "\n",
    "# Filter out the outliers (keep only non-outliers)\n",
    "df_clean = df[(df['SentimentTitle'] >= lower_bound) & (df['SentimentTitle'] <= upper_bound)]\n",
    "\n",
    "# Optional: Replace original DataFrame\n",
    "df = df_clean\n",
    "\n",
    "# Show cleaned data\n",
    "print(df)"
   ]
  },
  {
   "cell_type": "code",
   "execution_count": null,
   "id": "f4d06ebe",
   "metadata": {},
   "outputs": [
    {
     "data": {
      "text/plain": [
       "(86485, 11)"
      ]
     },
     "execution_count": 45,
     "metadata": {},
     "output_type": "execute_result"
    }
   ],
   "source": [
    "df.shape"
   ]
  },
  {
   "cell_type": "code",
   "execution_count": null,
   "id": "ee736545",
   "metadata": {},
   "outputs": [
    {
     "name": "stdout",
     "output_type": "stream",
     "text": [
      "              IDLink  SentimentTitle  SentimentHeadline      Facebook  \\\n",
      "count   86485.000000    86485.000000       86485.000000  86485.000000   \n",
      "mean    51502.318471       -0.004507          -0.027665    113.385269   \n",
      "std     30384.003773        0.109328           0.128067    625.759387   \n",
      "min         1.000000       -0.290930          -0.376184     -1.000000   \n",
      "25%     24315.000000       -0.070976          -0.111803      0.000000   \n",
      "50%     52210.000000        0.000000          -0.026064      5.000000   \n",
      "75%     76322.000000        0.056424           0.056579     33.000000   \n",
      "max    104802.000000        0.277095           0.321404  49211.000000   \n",
      "\n",
      "         GooglePlus      LinkedIn  SentimentMapped  \n",
      "count  86485.000000  86485.000000     86485.000000  \n",
      "mean       3.918390     16.657871        -0.152500  \n",
      "std       18.764405    157.924534         0.819956  \n",
      "min       -1.000000     -1.000000        -1.000000  \n",
      "25%        0.000000      0.000000        -1.000000  \n",
      "50%        0.000000      0.000000         0.000000  \n",
      "75%        2.000000      4.000000         1.000000  \n",
      "max     1267.000000  20341.000000         1.000000  \n"
     ]
    }
   ],
   "source": [
    "print(df.describe())"
   ]
  },
  {
   "cell_type": "code",
   "execution_count": null,
   "id": "8be6496d",
   "metadata": {},
   "outputs": [
    {
     "data": {
      "text/plain": [
       "Index(['IDLink', 'Title', 'Headline', 'Source', 'Topic', 'PublishDate',\n",
       "       'SentimentTitle', 'SentimentHeadline', 'Facebook', 'GooglePlus',\n",
       "       'LinkedIn', 'SentimentMapped', 'SentimentLabel'],\n",
       "      dtype='object')"
      ]
     },
     "execution_count": 66,
     "metadata": {},
     "output_type": "execute_result"
    }
   ],
   "source": [
    "df.columns"
   ]
  },
  {
   "cell_type": "markdown",
   "id": "729e827c",
   "metadata": {},
   "source": [
    "1.\tWhat topics netizens most frequently discussed on Facebook and Linkedin ?"
   ]
  },
  {
   "cell_type": "code",
   "execution_count": null,
   "id": "7b60e93b",
   "metadata": {},
   "outputs": [],
   "source": [
    "# Group by 'Topic' and sum the social media columns\n",
    "topic_popularity = df.groupby('Topic')[['Facebook', 'LinkedIn']].sum()\n",
    "top_topics = topic_popularity.sort_values(by=['Facebook', 'LinkedIn'], ascending=False)\n",
    "# Display the top 10 topics\n",
    "top_10_topics = top_topics.head(10)"
   ]
  },
  {
   "cell_type": "code",
   "execution_count": null,
   "id": "e05e57d4",
   "metadata": {},
   "outputs": [
    {
     "data": {
      "image/png": "[encoded data removed]",
      "text/plain": [
       "<Figure size 640x480 with 1 Axes>"
      ]
     },
     "metadata": {},
     "output_type": "display_data"
    },
    {
     "data": {
      "image/png": "[encoded data removed]",
      "text/plain": [
       "<Figure size 640x480 with 1 Axes>"
      ]
     },
     "metadata": {},
     "output_type": "display_data"
    }
   ],
   "source": [
    "import matplotlib.pyplot as plt\n",
    "\n",
    "# Plot top 10 Facebook topics\n",
    "top_topics_facebook = top_topics.sort_values(by='Facebook', ascending=False).head(10)\n",
    "top_topics_facebook['Facebook'].plot(kind='barh', color='skyblue')\n",
    "plt.title('Top 10 Topics by Facebook Engagement')\n",
    "plt.xlabel('Total Facebook Popularity')\n",
    "plt.ylabel('Topic')\n",
    "plt.gca().invert_yaxis()\n",
    "plt.show()\n",
    "\n",
    "# Plot top 10 LinkedIn topics\n",
    "top_topics_linkedin = top_topics.sort_values(by='LinkedIn', ascending=False).head(10)\n",
    "top_topics_linkedin['LinkedIn'].plot(kind='barh', color='lightgreen')\n",
    "plt.title('Top 10 Topics by LinkedIn Engagement')\n",
    "plt.xlabel('Total LinkedIn Popularity')\n",
    "plt.ylabel('Topic')\n",
    "plt.gca().invert_yaxis()\n",
    "plt.show()\n"
   ]
  },
  {
   "cell_type": "markdown",
   "id": "c7bef2cd",
   "metadata": {},
   "source": [
    "<h1> Linkedin Engaggment </h1>"
   ]
  },
  {
   "cell_type": "markdown",
   "id": "238206e8",
   "metadata": {},
   "source": [
    "This bar chart, titled \"Top 10 Topics by LinkedIn Engagement,\" displays the total LinkedIn popularity (representing engagement like likes, shares, and comments) for the four topics shown: \"microsoft,\" \"economy,\" \"obama,\" and \"palestine.\"\n",
    "\n",
    "Here's an interpretation:\n",
    "\n",
    "\"Microsoft\" Leads in LinkedIn Engagement: In stark contrast to Facebook engagement, \"microsoft\" is the topic that generates the most popularity on LinkedIn by a significant margin. Its bar extends the furthest, indicating that content related to Microsoft is highly engaging on this professional networking platform, with popularity exceeding 700,000.\n",
    "\n",
    "\"Economy\" is Second, but Substantially Lower: \"Economy\" ranks second in LinkedIn engagement, with its popularity being noticeably lower than \"microsoft\" but still substantial, around 500,000.\n",
    "\n",
    "\"Obama\" and \"Palestine\" Have Much Lower Engagement:\n",
    "\n",
    "\"Obama,\" which was dominant on Facebook, shows considerably less engagement on LinkedIn, with popularity around 200,000. This suggests that political figures might have less relevance or engagement on LinkedIn compared to Facebook.\n",
    "\"Palestine\" has very minimal engagement on LinkedIn, with its popularity barely registering above zero, similar to its low engagement on Facebook.\n",
    "Platform-Specific Engagement Patterns: This chart, when compared to the Facebook engagement chart you previously analyzed, highlights a clear difference in which topics resonate more on different social media platforms. While \"obama\" was king on Facebook, \"microsoft\" takes the lead on LinkedIn, likely due to the professional nature of the platform.\n",
    "\n",
    "In summary, \"microsoft\" is the most engaging topic on LinkedIn, followed by \"economy,\" while \"obama\" and \"palestine\" generate significantly less popularity on this platform."
   ]
  },
  {
   "cell_type": "markdown",
   "id": "eb0f7cba",
   "metadata": {},
   "source": [
    "<h1> Facebook Engaggment </h1>"
   ]
  },
  {
   "cell_type": "markdown",
   "id": "2a9247dc",
   "metadata": {},
   "source": [
    "\n",
    "This bar chart, titled \"Top 10 Topics by Facebook Engagement,\" illustrates the total Facebook popularity (likely representing engagement like likes, shares, comments) for the four topics shown: \"obama,\" \"economy,\" \"microsoft,\" and \"palestine.\"\n",
    "\n",
    "Here's an interpretation:\n",
    "\n",
    "\"Obama\" is the Dominant Topic for Engagement: By a significant margin, \"obama\" generates the most Facebook engagement. Its bar extends far beyond any other topic, indicating that content related to Obama is highly popular and shared on the platform within this dataset. The total popularity is approximately 7.3 million.\n",
    "\n",
    "Significant Drop-off to Other Topics: There's a steep decline in engagement from \"obama\" to the next most popular topic, \"economy.\" This suggests that while \"economy\" is the second most engaging, its popularity is considerably lower than \"obama.\" \"Economy\" has approximately 1.2 million in popularity.\n",
    "\n",
    "Lower Engagement for \"Microsoft\" and \"Palestine\": Both \"microsoft\" and \"palestine\" show much lower Facebook engagement compared to \"obama\" and \"economy.\" \"Microsoft\" has slightly more engagement than \"palestine,\" but both are at the lower end of the spectrum presented. \"Microsoft\" is around 0.6 million, and \"Palestine\" is less than 0.2 million.\n",
    "\n",
    "Implied Ranking: Based on this chart, among the four topics shown, the ranking by Facebook engagement from highest to lowest is: \"obama,\" \"economy,\" \"microsoft,\" and \"palestine.\"\n",
    "\n",
    "In summary, the chart clearly highlights \"obama\" as a topic that drives extremely high Facebook engagement compared to the other topics included in this visualization."
   ]
  },
  {
   "cell_type": "code",
   "execution_count": null,
   "id": "20eb3886",
   "metadata": {},
   "outputs": [
    {
     "data": {
      "image/png": "[encoded data removed]",
      "text/plain": [
       "<Figure size 640x480 with 1 Axes>"
      ]
     },
     "metadata": {},
     "output_type": "display_data"
    }
   ],
   "source": [
    "import matplotlib.pyplot as plt\n",
    "\n",
    "# Group by Topic and sum GooglePlus popularity\n",
    "googleplus_by_topic = df_clean.groupby('Topic')['GooglePlus'].sum()\n",
    "\n",
    "# Sort descending and select top 10\n",
    "top_topics_googleplus = googleplus_by_topic.sort_values(ascending=False).head(10)\n",
    "\n",
    "# Plot horizontal bar chart\n",
    "top_topics_googleplus.plot(kind='barh', color='lightgreen')\n",
    "plt.title('Top 10 Topics by GooglePlus Engagement')\n",
    "plt.xlabel('Total GooglePlus Popularity')\n",
    "plt.ylabel('Topic')\n",
    "plt.gca().invert_yaxis()  # Highest at top\n",
    "plt.tight_layout()\n",
    "plt.show()\n"
   ]
  },
  {
   "cell_type": "markdown",
   "id": "0bc0b199",
   "metadata": {},
   "source": [
    "This bar chart, titled \"Top 10 Topics by GooglePlus Engagement,\" illustrates the total GooglePlus popularity (representing engagement) for the four topics shown: \"obama,\" \"microsoft,\" \"economy,\" and \"palestine.\"\n",
    "\n",
    "Here's an interpretation:\n",
    "\n",
    "\"Obama\" Leads GooglePlus Engagement: Similar to Facebook, \"obama\" is the most engaging topic on GooglePlus, with its bar extending the furthest. This indicates that content related to Obama garnered the highest popularity on this platform, approximately 175,000.\n",
    "\n",
    "\"Microsoft\" is Second: \"Microsoft\" ranks second in GooglePlus engagement, though its popularity (around 95,000) is considerably less than \"obama.\"\n",
    "\n",
    "\"Economy\" and \"Palestine\" Show Lower Engagement:\n",
    "\n",
    "\"Economy\" comes in third, with popularity around 50,000, which is a noticeable drop from \"microsoft.\"\n",
    "\"Palestine\" has the lowest engagement among the displayed topics, with popularity around 15,000, indicating very little interaction on GooglePlus.\n",
    "Overall Lower Scale of Engagement: It's important to note the scale of \"Total GooglePlus Popularity\" on the x-axis. The highest engagement for \"obama\" here (around 175,000) is significantly lower than the highest engagement seen on Facebook (over 7 million for \"obama\") or even LinkedIn (over 700,000 for \"microsoft\"). This suggests that, in this dataset, GooglePlus might have a lower overall volume of engagement compared to Facebook and LinkedIn for these topics.\n",
    "\n",
    "In summary, \"obama\" is the most popular topic on GooglePlus, followed by \"microsoft\" and \"economy,\" with \"palestine\" showing the least engagement. The overall engagement levels on GooglePlus appear to be lower than on Facebook or LinkedIn for these specific topics"
   ]
  },
  {
   "cell_type": "markdown",
   "id": "f24a4aad",
   "metadata": {},
   "source": [
    "obama\" is the most popular topic on GooglePlus, followed by \"microsoft\" and \"economy,\" with \"palestine\" showing the least engagement. The overall engagement levels on GooglePlus appear to be lower than on Facebook or LinkedIn for these specific topics."
   ]
  },
  {
   "cell_type": "markdown",
   "id": "a115abdb",
   "metadata": {},
   "source": [
    "obama\" as a topic that drives extremely high Facebook engagement compared to the other topics included in this visualization.\n",
    "microsoft\" is the most engaging topic on LinkedIn, followed by \"economy,\" while \"obama\" and \"palestine\" generate significantly less popularity on this platform."
   ]
  },
  {
   "cell_type": "markdown",
   "id": "3de0715d",
   "metadata": {},
   "source": [
    "The frequency and type of topics discussed significantly differ between Platforms."
   ]
  },
  {
   "cell_type": "markdown",
   "id": "bd69b381",
   "metadata": {},
   "source": [
    "2.\tWhat is the overall sentiment (positive, negative, or neutral)? Around trending topics or events?"
   ]
  },
  {
   "cell_type": "code",
   "execution_count": null,
   "id": "8b876487",
   "metadata": {},
   "outputs": [
    {
     "name": "stdout",
     "output_type": "stream",
     "text": [
      "SentimentLabel\n",
      "Negative    36673\n",
      "Neutral     26328\n",
      "Positive    23484\n",
      "Name: count, dtype: int64\n"
     ]
    }
   ],
   "source": [
    "top_topics = df_clean['Topic'].value_counts().head(5).index\n",
    "trending_df = df_clean[df_clean['Topic'].isin(top_topics)]\n",
    "overall_sentiment = trending_df['SentimentLabel'].value_counts()\n",
    "print(overall_sentiment)\n"
   ]
  },
  {
   "cell_type": "code",
   "execution_count": null,
   "id": "baa052cb",
   "metadata": {},
   "outputs": [
    {
     "data": {
      "image/png": "[encoded data removed]",
      "text/plain": [
       "<Figure size 640x480 with 1 Axes>"
      ]
     },
     "metadata": {},
     "output_type": "display_data"
    }
   ],
   "source": [
    "import matplotlib.pyplot as plt\n",
    "overall_sentiment.plot(kind='bar', color=['red', 'gray', 'green'])\n",
    "plt.title('Overall Sentiment Around Trending Topics')\n",
    "plt.xlabel('Sentiment')\n",
    "plt.ylabel('Number of Articles')\n",
    "plt.xticks(rotation=0)\n",
    "plt.show()\n",
    "\n"
   ]
  },
  {
   "cell_type": "markdown",
   "id": "38b68629",
   "metadata": {},
   "source": [
    "This bar chart, titled \"Overall Sentiment Around Trending Topics,\" displays the distribution of sentiment (Negative, Neutral, Positive) across the articles in the dataset, aggregated for all trending topics.\n",
    "\n",
    "Here's an interpretation:\n",
    "\n",
    "Dominance of Negative Sentiment: The chart clearly shows that negative sentiment is the most prevalent, with the highest number of articles (approximately 36,000 to 37,000). This indicates that a significant majority of news or discussions around trending topics in this dataset tend to carry a negative tone.\n",
    "\n",
    "Neutral Sentiment is Second: Neutral sentiment comes in second, with a considerably lower number of articles than negative sentiment (approximately 26,000 articles).\n",
    "\n",
    "Positive Sentiment is the Least Common: Positive sentiment has the lowest representation, with around 23,000 to 24,000 articles. This suggests that articles expressing positive views or news are the least common among the trending topics analyzed.\n",
    "\n",
    "In summary, the overall sentiment across these trending topics is predominantly negative, followed by neutral, and then positive, indicating a generally pessimistic or critical tone in the sampled articles."
   ]
  },
  {
   "cell_type": "markdown",
   "id": "21b4f93c",
   "metadata": {},
   "source": [
    "the overall sentiment across these trending topics is predominantly negative, followed by neutral, and then positive, indicating a generally pessimistic or critical tone in the sampled articles."
   ]
  },
  {
   "cell_type": "code",
   "execution_count": null,
   "id": "9bc6271d",
   "metadata": {},
   "outputs": [],
   "source": [
    "#using heatmap"
   ]
  },
  {
   "cell_type": "code",
   "execution_count": null,
   "id": "0fe561cd",
   "metadata": {},
   "outputs": [
    {
     "name": "stderr",
     "output_type": "stream",
     "text": [
      "C:\\Users\\amitd\\AppData\\Local\\Temp\\ipykernel_30324\\3816758096.py:4: SettingWithCopyWarning: \n",
      "A value is trying to be set on a copy of a slice from a DataFrame.\n",
      "Try using .loc[row_indexer,col_indexer] = value instead\n",
      "\n",
      "See the caveats in the documentation: https://pandas.pydata.org/pandas-docs/stable/user_guide/indexing.html#returning-a-view-versus-a-copy\n",
      "  df_clean['SentimentLabel'] = df_clean['SentimentMapped'].map({-1: 'Negative', 0: 'Neutral', 1: 'Positive'})\n"
     ]
    },
    {
     "data": {
      "image/png": "[encoded data removed]",
      "text/plain": [
       "<Figure size 800x500 with 2 Axes>"
      ]
     },
     "metadata": {},
     "output_type": "display_data"
    }
   ],
   "source": [
    "import seaborn as sns\n",
    "import matplotlib.pyplot as plt\n",
    "# Map sentiment values to labels\n",
    "df_clean['SentimentLabel'] = df_clean['SentimentMapped'].map({-1: 'Negative', 0: 'Neutral', 1: 'Positive'})\n",
    "\n",
    "\n",
    "# Get top 5 trending topics\n",
    "top_topics = df_clean['Topic'].value_counts().head(5).index\n",
    "\n",
    "# Filter data\n",
    "trend_df = df_clean[df_clean['Topic'].isin(top_topics)]\n",
    "\n",
    "# Pivot table: count of articles per sentiment per topic\n",
    "heatmap_data = trend_df.pivot_table(index='Topic', \n",
    "                                     columns='SentimentLabel', \n",
    "                                     values='IDLink',  # You can use any column; 'IDLink' just counts rows\n",
    "                                     aggfunc='count',\n",
    "                                     fill_value=0)\n",
    "plt.figure(figsize=(8, 5))\n",
    "sns.heatmap(heatmap_data, annot=True, cmap=\"YlGnBu\", fmt='d')\n",
    "\n",
    "plt.title('Sentiment Distribution by Topic (Heatmap)')\n",
    "plt.ylabel('Topic')\n",
    "plt.xlabel('Sentiment')\n",
    "plt.tight_layout()\n",
    "plt.show()\n"
   ]
  },
  {
   "cell_type": "markdown",
   "id": "0d5e2f4a",
   "metadata": {},
   "source": [
    "The heatmap reveals a general tendency for negative sentiment across most topics in this dataset, with \"economy\" having the most negative headlines and \"Palestine\" showing a strong lean towards negative sentiment despite a lower overall volume of news. \"Microsoft\" and \"Obama\" also have more negative headlines but show a slightly more balanced distribution between neutral and positive compared to \"economy.\""
   ]
  },
  {
   "cell_type": "code",
   "execution_count": null,
   "id": "4d88c41f",
   "metadata": {},
   "outputs": [
    {
     "data": {
      "image/png": "[encoded data removed]",
      "text/plain": [
       "<Figure size 1000x600 with 1 Axes>"
      ]
     },
     "metadata": {},
     "output_type": "display_data"
    }
   ],
   "source": [
    "#Box Plot\n",
    "import matplotlib.pyplot as plt\n",
    "import seaborn as sns\n",
    "\n",
    "# Assuming df_clean already has these columns:\n",
    "# 'Topic' and 'SentimentHeadline'\n",
    "\n",
    "# Step 1: Get top 5 trending topics by article count\n",
    "top_topics = df_clean['Topic'].value_counts().head(5).index\n",
    "\n",
    "# Step 2: Filter data for these top topics\n",
    "trending_df = df_clean[df_clean['Topic'].isin(top_topics)]\n",
    "\n",
    "# Step 3: Plot box plot\n",
    "plt.figure(figsize=(10, 6))\n",
    "sns.boxplot(data=trending_df, x='Topic', y='SentimentHeadline', hue='Topic', palette='coolwarm', legend=False)\n",
    "\n",
    "\n",
    "plt.title('Sentiment Score Distribution Around Trending Topics')\n",
    "plt.xlabel('Topic')\n",
    "plt.ylabel('Sentiment Score (Headline)')\n",
    "plt.xticks(rotation=45)\n",
    "plt.tight_layout()\n",
    "plt.show()\n"
   ]
  },
  {
   "cell_type": "code",
   "execution_count": null,
   "id": "2022bb68",
   "metadata": {},
   "outputs": [],
   "source": [
    "#Interpretation\n"
   ]
  },
  {
   "cell_type": "markdown",
   "id": "1af8b0e7",
   "metadata": {},
   "source": [
    "\"Obama\" and \"economy\" have a mix of slightly negative to slightly positive sentiment. \"Microsoft\" leans a bit more negative, while \"Palestine\" shows the most negative sentiment overall\n",
    "Palestine\" box plot has the largest standard deviation. This is because it has the widest box, showing a larger spread of data around the mean."
   ]
  },
  {
   "cell_type": "markdown",
   "id": "30530913",
   "metadata": {},
   "source": [
    "3. How does public opinion differ between platforms?\n",
    "Hypothesis\n",
    "Null Hypothesis (H₀): Public opinion and sentiment do not differ significantly between Reddit and Twitter.\n",
    "Alternative Hypothesis (H₁): Public opinion and sentiment differ significantly between Reddit and Twitter due to platform structure and user behavior.\n"
   ]
  },
  {
   "cell_type": "code",
   "execution_count": null,
   "id": "ddb73bd2",
   "metadata": {},
   "outputs": [
    {
     "name": "stdout",
     "output_type": "stream",
     "text": [
      "Index(['IDLink', 'Title', 'Headline', 'Source', 'Topic', 'PublishDate',\n",
      "       'SentimentTitle', 'SentimentHeadline', 'Facebook', 'GooglePlus',\n",
      "       'LinkedIn', 'SentimentMapped', 'SentimentLabel'],\n",
      "      dtype='object')\n"
     ]
    }
   ],
   "source": [
    "print(df.columns)\n"
   ]
  },
  {
   "cell_type": "code",
   "execution_count": null,
   "id": "690623b1",
   "metadata": {},
   "outputs": [
    {
     "name": "stdout",
     "output_type": "stream",
     "text": [
      "['USA TODAY' 'Bloomberg' 'RTT News' ... 'Times of Malta (blog)'\n",
      " 'Fort Worth Star Telegram (blog)' \"L'Humanité\"]\n"
     ]
    }
   ],
   "source": [
    "print(df['Source'].unique())\n"
   ]
  },
  {
   "cell_type": "code",
   "execution_count": null,
   "id": "cbda790a",
   "metadata": {},
   "outputs": [],
   "source": [
    "# Melt the dataframe to long format for platforms\n",
    "df_long = df.melt(\n",
    "    id_vars=['SentimentLabel', 'Topic'], \n",
    "    value_vars=['Facebook', 'GooglePlus', 'LinkedIn'], \n",
    "    var_name='Platform', \n",
    "    value_name='Popularity'\n",
    ")\n",
    "\n",
    "# Filter to keep only rows where Popularity > 0 (optional, if you want only active posts)\n",
    "df_platforms = df_long[df_long['Popularity'] > 0]\n"
   ]
  },
  {
   "cell_type": "code",
   "execution_count": null,
   "id": "08b6ca1d",
   "metadata": {},
   "outputs": [
    {
     "name": "stdout",
     "output_type": "stream",
     "text": [
      "SentimentLabel  Negative  Neutral  Positive\n",
      "Platform                                   \n",
      "Facebook           25253    18438     16504\n",
      "GooglePlus         14404    10403      9504\n",
      "LinkedIn           14536    10628      9837\n"
     ]
    }
   ],
   "source": [
    "contingency_table = pd.crosstab(df_platforms['Platform'], df_platforms['SentimentLabel'])\n",
    "print(contingency_table)\n"
   ]
  },
  {
   "cell_type": "code",
   "execution_count": null,
   "id": "cbf9bda7",
   "metadata": {},
   "outputs": [
    {
     "name": "stdout",
     "output_type": "stream",
     "text": [
      "Chi-square statistic: 5.818010954754099\n"
     ]
    }
   ],
   "source": [
    "import numpy as np\n",
    "\n",
    "# Observed frequencies\n",
    "observed = contingency_table.values\n",
    "\n",
    "# Row and column totals\n",
    "row_totals = observed.sum(axis=1).reshape(-1, 1)  # column vector\n",
    "col_totals = observed.sum(axis=0).reshape(1, -1)  # row vector\n",
    "total = observed.sum()\n",
    "\n",
    "# Expected frequencies under H0 (independence)\n",
    "expected = (row_totals @ col_totals) / total\n",
    "\n",
    "# Compute chi-square statistic\n",
    "chi_square_stat = np.sum((observed - expected) ** 2 / expected)\n",
    "\n",
    "print(\"Chi-square statistic:\", chi_square_stat)\n"
   ]
  },
  {
   "cell_type": "code",
   "execution_count": null,
   "id": "382055b9",
   "metadata": {},
   "outputs": [
    {
     "name": "stdout",
     "output_type": "stream",
     "text": [
      "Chi-square statistic: 5.818010954754099\n",
      "p-value: 0.2131578113287803\n",
      "Degrees of freedom: 4\n"
     ]
    }
   ],
   "source": [
    "from scipy.stats import chi2_contingency\n",
    "\n",
    "chi2, p, dof, expected = chi2_contingency(contingency_table)\n",
    "print(\"Chi-square statistic:\", chi2)\n",
    "print(\"p-value:\", p)\n",
    "print(\"Degrees of freedom:\", dof)\n"
   ]
  },
  {
   "cell_type": "code",
   "execution_count": null,
   "id": "9cf8c7dd",
   "metadata": {},
   "outputs": [
    {
     "data": {
      "image/png": "[encoded data removed]",
      "text/plain": [
       "<Figure size 800x600 with 1 Axes>"
      ]
     },
     "metadata": {},
     "output_type": "display_data"
    }
   ],
   "source": [
    "contingency_table_norm = contingency_table.div(contingency_table.sum(axis=1), axis=0)  # Normalize rows to sum to 1\n",
    "contingency_table_norm.plot(kind='bar', stacked=True, figsize=(8,6), colormap='coolwarm')\n",
    "plt.title('Proportion of Sentiments by Platform')\n",
    "plt.xlabel('Platform')\n",
    "plt.ylabel('Proportion')\n",
    "plt.xticks(rotation=0)\n",
    "plt.legend(title='Sentiment')\n",
    "plt.show()\n"
   ]
  },
  {
   "cell_type": "code",
   "execution_count": null,
   "id": "c508e12f",
   "metadata": {},
   "outputs": [
    {
     "data": {
      "image/png": "[encoded data removed]",
      "text/plain": [
       "<Figure size 800x500 with 2 Axes>"
      ]
     },
     "metadata": {},
     "output_type": "display_data"
    }
   ],
   "source": [
    "#heatmap\n",
    "import pandas as pd\n",
    "import seaborn as sns\n",
    "import matplotlib.pyplot as plt\n",
    "\n",
    "# Assuming you already have the contingency table like this:\n",
    "# contingency_table = pd.crosstab(df_platforms['Source'], df_platforms['SentimentLabel'])\n",
    "\n",
    "plt.figure(figsize=(8, 5))\n",
    "sns.heatmap(contingency_table, annot=True, fmt='d', cmap='YlGnBu')\n",
    "\n",
    "plt.title('Heatmap of Sentiment Distribution Across Platforms')\n",
    "plt.xlabel('Sentiment')\n",
    "plt.ylabel('Platform')\n",
    "plt.show()\n"
   ]
  },
  {
   "cell_type": "markdown",
   "id": "3cfaaf24",
   "metadata": {},
   "source": [
    "In summary:\n",
    "\n",
    "The heatmap reveals that negative sentiment is the most prevalent across all three platforms. Facebook accounts for the largest share of overall sentiment data, suggesting it's a more active platform for these discussions in this dataset. GooglePlus and LinkedIn exhibit very similar sentiment distributions and overall volumes, both being significantly lower than Facebook. This overall trend points towards a generally negative tone dominating the discussions for the topics analyzed, regardless of the platform"
   ]
  },
  {
   "cell_type": "markdown",
   "id": "618a6417",
   "metadata": {},
   "source": [
    "This heatmap, titled \"Heatmap of Sentiment Distribution Across Platforms,\" shows the number of articles or posts (implied by the counts) categorized by their sentiment (Negative, Neutral, Positive) across three different social media platforms: Facebook, GooglePlus, and LinkedIn. The color intensity also helps visualize the counts, with darker blue representing higher numbers and lighter yellow representing lower numbers.\n",
    "\n",
    "Here's a detailed interpretation:\n",
    "\n",
    "Overall Dominance of Negative Sentiment: Across all three platforms displayed (Facebook, GooglePlus, and LinkedIn), negative sentiment consistently has the highest number of articles/posts. This suggests a general inclination towards negative discussions or news across these platforms in the dataset.\n",
    "\n",
    "Facebook Has the Highest Volume of Discussion:\n",
    "\n",
    "Facebook shows the highest counts for all sentiment categories (Negative: 25,253; Neutral: 18,438; Positive: 16,504).\n",
    "This indicates that Facebook had the largest volume of relevant content captured in this analysis compared to GooglePlus and LinkedIn.\n",
    "On Facebook, the sentiment distribution follows a clear pattern: Negative > Neutral > Positive.\n",
    "GooglePlus and LinkedIn Show Similar Patterns and Volumes:\n",
    "\n",
    "Both GooglePlus and LinkedIn have considerably lower total volumes of articles/posts compared to Facebook.\n",
    "Their sentiment distributions are remarkably similar to each other in terms of counts:\n",
    "GooglePlus: Negative (14,404), Neutral (10,403), Positive (9,504)\n",
    "LinkedIn: Negative (14,536), Neutral (10,628), Positive (9,837)\n",
    "Both platforms also follow the same general sentiment pattern: Negative > Neutral > Positive, though with lower absolute numbers than Facebook."
   ]
  },
  {
   "cell_type": "markdown",
   "id": "3d7bbaa2",
   "metadata": {},
   "source": []
  }
 ],
 "metadata": {
  "kernelspec": {
   "display_name": "Python 3",
   "language": "python",
   "name": "python3"
  },
  "language_info": {
   "codemirror_mode": {
    "name": "ipython",
    "version": 3
   },
   "file_extension": ".py",
   "mimetype": "text/x-python",
   "name": "python",
   "nbconvert_exporter": "python",
   "pygments_lexer": "ipython3",
   "version": "3.13.2"
  }
 },
 "nbformat": 4,
 "nbformat_minor": 5
}
