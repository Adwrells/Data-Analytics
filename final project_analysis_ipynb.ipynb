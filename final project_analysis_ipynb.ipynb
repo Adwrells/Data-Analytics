{
 "cells": [
  {
   "cell_type": "code",
   "execution_count": 20,
   "id": "7f23d3e9",
   "metadata": {},
   "outputs": [
    {
     "ename": "SyntaxError",
     "evalue": "invalid syntax (614022429.py, line 1)",
     "output_type": "error",
     "traceback": [
      "  \u001b[36mCell\u001b[39m\u001b[36m \u001b[39m\u001b[32mIn[20]\u001b[39m\u001b[32m, line 1\u001b[39m\n\u001b[31m    \u001b[39m\u001b[31mData Analytics!!\u001b[39m\n         ^\n\u001b[31mSyntaxError\u001b[39m\u001b[31m:\u001b[39m invalid syntax\n"
     ]
    }
   ],
   "source": [
    "Data Analytics!!\n",
    "\n",
    "Principle of Analytics\n"
   ]
  },
  {
   "cell_type": "markdown",
   "id": "a9624464",
   "metadata": {},
   "source": [
    "Importing code , review them , clean if necessary"
   ]
  },
  {
   "cell_type": "code",
   "execution_count": 22,
   "id": "0d2b44c7",
   "metadata": {},
   "outputs": [],
   "source": [
    "import pandas as pd\n",
    "import numpy as np\n",
    "import matplotlib.pyplot as plt\n",
    "import seaborn as sns\n"
   ]
  },
  {
   "cell_type": "markdown",
   "id": "edaeb690",
   "metadata": {},
   "source": [
    "Reading Data from "
   ]
  },
  {
   "cell_type": "code",
   "execution_count": 23,
   "id": "105dbbe5",
   "metadata": {},
   "outputs": [],
   "source": [
    "df=pd.read_csv('News_Final.csv')\n"
   ]
  },
  {
   "cell_type": "code",
   "execution_count": 24,
   "id": "ac814557",
   "metadata": {},
   "outputs": [
    {
     "data": {
      "text/html": [
       "<div>\n",
       "<style scoped>\n",
       "    .dataframe tbody tr th:only-of-type {\n",
       "        vertical-align: middle;\n",
       "    }\n",
       "\n",
       "    .dataframe tbody tr th {\n",
       "        vertical-align: top;\n",
       "    }\n",
       "\n",
       "    .dataframe thead th {\n",
       "        text-align: right;\n",
       "    }\n",
       "</style>\n",
       "<table border=\"1\" class=\"dataframe\">\n",
       "  <thead>\n",
       "    <tr style=\"text-align: right;\">\n",
       "      <th></th>\n",
       "      <th>IDLink</th>\n",
       "      <th>Title</th>\n",
       "      <th>Headline</th>\n",
       "      <th>Source</th>\n",
       "      <th>Topic</th>\n",
       "      <th>PublishDate</th>\n",
       "      <th>SentimentTitle</th>\n",
       "      <th>SentimentHeadline</th>\n",
       "      <th>Facebook</th>\n",
       "      <th>GooglePlus</th>\n",
       "      <th>LinkedIn</th>\n",
       "    </tr>\n",
       "  </thead>\n",
       "  <tbody>\n",
       "    <tr>\n",
       "      <th>0</th>\n",
       "      <td>99248.0</td>\n",
       "      <td>Obama Lays Wreath at Arlington National Cemetery</td>\n",
       "      <td>Obama Lays Wreath at Arlington National Cemete...</td>\n",
       "      <td>USA TODAY</td>\n",
       "      <td>obama</td>\n",
       "      <td>2002-04-02 00:00:00</td>\n",
       "      <td>0.000000</td>\n",
       "      <td>-0.053300</td>\n",
       "      <td>-1</td>\n",
       "      <td>-1</td>\n",
       "      <td>-1</td>\n",
       "    </tr>\n",
       "    <tr>\n",
       "      <th>1</th>\n",
       "      <td>10423.0</td>\n",
       "      <td>A Look at the Health of the Chinese Economy</td>\n",
       "      <td>Tim Haywood, investment director business-unit...</td>\n",
       "      <td>Bloomberg</td>\n",
       "      <td>economy</td>\n",
       "      <td>2008-09-20 00:00:00</td>\n",
       "      <td>0.208333</td>\n",
       "      <td>-0.156386</td>\n",
       "      <td>-1</td>\n",
       "      <td>-1</td>\n",
       "      <td>-1</td>\n",
       "    </tr>\n",
       "    <tr>\n",
       "      <th>2</th>\n",
       "      <td>18828.0</td>\n",
       "      <td>Nouriel Roubini: Global Economy Not Back to 2008</td>\n",
       "      <td>Nouriel Roubini, NYU professor and chairman at...</td>\n",
       "      <td>Bloomberg</td>\n",
       "      <td>economy</td>\n",
       "      <td>2012-01-28 00:00:00</td>\n",
       "      <td>-0.425210</td>\n",
       "      <td>0.139754</td>\n",
       "      <td>-1</td>\n",
       "      <td>-1</td>\n",
       "      <td>-1</td>\n",
       "    </tr>\n",
       "    <tr>\n",
       "      <th>3</th>\n",
       "      <td>27788.0</td>\n",
       "      <td>Finland GDP Expands In Q4</td>\n",
       "      <td>Finland's economy expanded marginally in the t...</td>\n",
       "      <td>RTT News</td>\n",
       "      <td>economy</td>\n",
       "      <td>2015-03-01 00:06:00</td>\n",
       "      <td>0.000000</td>\n",
       "      <td>0.026064</td>\n",
       "      <td>-1</td>\n",
       "      <td>-1</td>\n",
       "      <td>-1</td>\n",
       "    </tr>\n",
       "    <tr>\n",
       "      <th>4</th>\n",
       "      <td>27789.0</td>\n",
       "      <td>Tourism, govt spending buoys Thai economy in J...</td>\n",
       "      <td>Tourism and public spending continued to boost...</td>\n",
       "      <td>The Nation - Thailand&amp;#39;s English news</td>\n",
       "      <td>economy</td>\n",
       "      <td>2015-03-01 00:11:00</td>\n",
       "      <td>0.000000</td>\n",
       "      <td>0.141084</td>\n",
       "      <td>-1</td>\n",
       "      <td>-1</td>\n",
       "      <td>-1</td>\n",
       "    </tr>\n",
       "  </tbody>\n",
       "</table>\n",
       "</div>"
      ],
      "text/plain": [
       "    IDLink                                              Title  \\\n",
       "0  99248.0   Obama Lays Wreath at Arlington National Cemetery   \n",
       "1  10423.0        A Look at the Health of the Chinese Economy   \n",
       "2  18828.0   Nouriel Roubini: Global Economy Not Back to 2008   \n",
       "3  27788.0                          Finland GDP Expands In Q4   \n",
       "4  27789.0  Tourism, govt spending buoys Thai economy in J...   \n",
       "\n",
       "                                            Headline  \\\n",
       "0  Obama Lays Wreath at Arlington National Cemete...   \n",
       "1  Tim Haywood, investment director business-unit...   \n",
       "2  Nouriel Roubini, NYU professor and chairman at...   \n",
       "3  Finland's economy expanded marginally in the t...   \n",
       "4  Tourism and public spending continued to boost...   \n",
       "\n",
       "                                     Source    Topic          PublishDate  \\\n",
       "0                                 USA TODAY    obama  2002-04-02 00:00:00   \n",
       "1                                 Bloomberg  economy  2008-09-20 00:00:00   \n",
       "2                                 Bloomberg  economy  2012-01-28 00:00:00   \n",
       "3                                  RTT News  economy  2015-03-01 00:06:00   \n",
       "4  The Nation - Thailand&#39;s English news  economy  2015-03-01 00:11:00   \n",
       "\n",
       "   SentimentTitle  SentimentHeadline  Facebook  GooglePlus  LinkedIn  \n",
       "0        0.000000          -0.053300        -1          -1        -1  \n",
       "1        0.208333          -0.156386        -1          -1        -1  \n",
       "2       -0.425210           0.139754        -1          -1        -1  \n",
       "3        0.000000           0.026064        -1          -1        -1  \n",
       "4        0.000000           0.141084        -1          -1        -1  "
      ]
     },
     "execution_count": 24,
     "metadata": {},
     "output_type": "execute_result"
    }
   ],
   "source": [
    "df.head()"
   ]
  },
  {
   "cell_type": "code",
   "execution_count": 25,
   "id": "ae772283",
   "metadata": {},
   "outputs": [
    {
     "ename": "SyntaxError",
     "evalue": "invalid syntax (4260025534.py, line 1)",
     "output_type": "error",
     "traceback": [
      "  \u001b[36mCell\u001b[39m\u001b[36m \u001b[39m\u001b[32mIn[25]\u001b[39m\u001b[32m, line 1\u001b[39m\n\u001b[31m    \u001b[39m\u001b[31mchecking for null values\u001b[39m\n             ^\n\u001b[31mSyntaxError\u001b[39m\u001b[31m:\u001b[39m invalid syntax\n"
     ]
    }
   ],
   "source": [
    "checking for null values"
   ]
  },
  {
   "cell_type": "code",
   "execution_count": 26,
   "id": "0bb877fb",
   "metadata": {},
   "outputs": [
    {
     "data": {
      "text/plain": [
       "IDLink                 0\n",
       "Title                  0\n",
       "Headline              15\n",
       "Source               279\n",
       "Topic                  0\n",
       "PublishDate            0\n",
       "SentimentTitle         0\n",
       "SentimentHeadline      0\n",
       "Facebook               0\n",
       "GooglePlus             0\n",
       "LinkedIn               0\n",
       "dtype: int64"
      ]
     },
     "execution_count": 26,
     "metadata": {},
     "output_type": "execute_result"
    }
   ],
   "source": [
    "df.isnull().sum()"
   ]
  },
  {
   "cell_type": "code",
   "execution_count": 27,
   "id": "0bdd24d7",
   "metadata": {},
   "outputs": [
    {
     "data": {
      "text/plain": [
       "IDLink               0\n",
       "Title                0\n",
       "Headline             0\n",
       "Source               0\n",
       "Topic                0\n",
       "PublishDate          0\n",
       "SentimentTitle       0\n",
       "SentimentHeadline    0\n",
       "Facebook             0\n",
       "GooglePlus           0\n",
       "LinkedIn             0\n",
       "dtype: int64"
      ]
     },
     "execution_count": 27,
     "metadata": {},
     "output_type": "execute_result"
    }
   ],
   "source": [
    "df.dropna(inplace=True)\n",
    "df.isnull().sum()"
   ]
  },
  {
   "cell_type": "code",
   "execution_count": 28,
   "id": "b515a066",
   "metadata": {},
   "outputs": [
    {
     "data": {
      "text/plain": [
       "(92945, 11)"
      ]
     },
     "execution_count": 28,
     "metadata": {},
     "output_type": "execute_result"
    }
   ],
   "source": [
    "df.head()\n",
    "df.shape"
   ]
  },
  {
   "cell_type": "code",
   "execution_count": 29,
   "id": "8bee74d2",
   "metadata": {},
   "outputs": [
    {
     "data": {
      "text/html": [
       "<div>\n",
       "<style scoped>\n",
       "    .dataframe tbody tr th:only-of-type {\n",
       "        vertical-align: middle;\n",
       "    }\n",
       "\n",
       "    .dataframe tbody tr th {\n",
       "        vertical-align: top;\n",
       "    }\n",
       "\n",
       "    .dataframe thead th {\n",
       "        text-align: right;\n",
       "    }\n",
       "</style>\n",
       "<table border=\"1\" class=\"dataframe\">\n",
       "  <thead>\n",
       "    <tr style=\"text-align: right;\">\n",
       "      <th></th>\n",
       "      <th>IDLink</th>\n",
       "      <th>Title</th>\n",
       "      <th>Headline</th>\n",
       "      <th>Source</th>\n",
       "      <th>Topic</th>\n",
       "      <th>PublishDate</th>\n",
       "      <th>SentimentTitle</th>\n",
       "      <th>SentimentHeadline</th>\n",
       "      <th>Facebook</th>\n",
       "      <th>GooglePlus</th>\n",
       "      <th>LinkedIn</th>\n",
       "    </tr>\n",
       "  </thead>\n",
       "  <tbody>\n",
       "    <tr>\n",
       "      <th>0</th>\n",
       "      <td>99248.0</td>\n",
       "      <td>Obama Lays Wreath at Arlington National Cemetery</td>\n",
       "      <td>Obama Lays Wreath at Arlington National Cemete...</td>\n",
       "      <td>USA TODAY</td>\n",
       "      <td>obama</td>\n",
       "      <td>2002-04-02 00:00:00</td>\n",
       "      <td>0.000000</td>\n",
       "      <td>-0.053300</td>\n",
       "      <td>-1</td>\n",
       "      <td>-1</td>\n",
       "      <td>-1</td>\n",
       "    </tr>\n",
       "    <tr>\n",
       "      <th>1</th>\n",
       "      <td>10423.0</td>\n",
       "      <td>A Look at the Health of the Chinese Economy</td>\n",
       "      <td>Tim Haywood, investment director business-unit...</td>\n",
       "      <td>Bloomberg</td>\n",
       "      <td>economy</td>\n",
       "      <td>2008-09-20 00:00:00</td>\n",
       "      <td>0.208333</td>\n",
       "      <td>-0.156386</td>\n",
       "      <td>-1</td>\n",
       "      <td>-1</td>\n",
       "      <td>-1</td>\n",
       "    </tr>\n",
       "    <tr>\n",
       "      <th>2</th>\n",
       "      <td>18828.0</td>\n",
       "      <td>Nouriel Roubini: Global Economy Not Back to 2008</td>\n",
       "      <td>Nouriel Roubini, NYU professor and chairman at...</td>\n",
       "      <td>Bloomberg</td>\n",
       "      <td>economy</td>\n",
       "      <td>2012-01-28 00:00:00</td>\n",
       "      <td>-0.425210</td>\n",
       "      <td>0.139754</td>\n",
       "      <td>-1</td>\n",
       "      <td>-1</td>\n",
       "      <td>-1</td>\n",
       "    </tr>\n",
       "    <tr>\n",
       "      <th>3</th>\n",
       "      <td>27788.0</td>\n",
       "      <td>Finland GDP Expands In Q4</td>\n",
       "      <td>Finland's economy expanded marginally in the t...</td>\n",
       "      <td>RTT News</td>\n",
       "      <td>economy</td>\n",
       "      <td>2015-03-01 00:06:00</td>\n",
       "      <td>0.000000</td>\n",
       "      <td>0.026064</td>\n",
       "      <td>-1</td>\n",
       "      <td>-1</td>\n",
       "      <td>-1</td>\n",
       "    </tr>\n",
       "    <tr>\n",
       "      <th>4</th>\n",
       "      <td>27789.0</td>\n",
       "      <td>Tourism, govt spending buoys Thai economy in J...</td>\n",
       "      <td>Tourism and public spending continued to boost...</td>\n",
       "      <td>The Nation - Thailand&amp;#39;s English news</td>\n",
       "      <td>economy</td>\n",
       "      <td>2015-03-01 00:11:00</td>\n",
       "      <td>0.000000</td>\n",
       "      <td>0.141084</td>\n",
       "      <td>-1</td>\n",
       "      <td>-1</td>\n",
       "      <td>-1</td>\n",
       "    </tr>\n",
       "  </tbody>\n",
       "</table>\n",
       "</div>"
      ],
      "text/plain": [
       "    IDLink                                              Title  \\\n",
       "0  99248.0   Obama Lays Wreath at Arlington National Cemetery   \n",
       "1  10423.0        A Look at the Health of the Chinese Economy   \n",
       "2  18828.0   Nouriel Roubini: Global Economy Not Back to 2008   \n",
       "3  27788.0                          Finland GDP Expands In Q4   \n",
       "4  27789.0  Tourism, govt spending buoys Thai economy in J...   \n",
       "\n",
       "                                            Headline  \\\n",
       "0  Obama Lays Wreath at Arlington National Cemete...   \n",
       "1  Tim Haywood, investment director business-unit...   \n",
       "2  Nouriel Roubini, NYU professor and chairman at...   \n",
       "3  Finland's economy expanded marginally in the t...   \n",
       "4  Tourism and public spending continued to boost...   \n",
       "\n",
       "                                     Source    Topic          PublishDate  \\\n",
       "0                                 USA TODAY    obama  2002-04-02 00:00:00   \n",
       "1                                 Bloomberg  economy  2008-09-20 00:00:00   \n",
       "2                                 Bloomberg  economy  2012-01-28 00:00:00   \n",
       "3                                  RTT News  economy  2015-03-01 00:06:00   \n",
       "4  The Nation - Thailand&#39;s English news  economy  2015-03-01 00:11:00   \n",
       "\n",
       "   SentimentTitle  SentimentHeadline  Facebook  GooglePlus  LinkedIn  \n",
       "0        0.000000          -0.053300        -1          -1        -1  \n",
       "1        0.208333          -0.156386        -1          -1        -1  \n",
       "2       -0.425210           0.139754        -1          -1        -1  \n",
       "3        0.000000           0.026064        -1          -1        -1  \n",
       "4        0.000000           0.141084        -1          -1        -1  "
      ]
     },
     "execution_count": 29,
     "metadata": {},
     "output_type": "execute_result"
    }
   ],
   "source": [
    "df.head()"
   ]
  },
  {
   "cell_type": "markdown",
   "id": "3d3e1e8f",
   "metadata": {},
   "source": [
    "Check for duplicate values"
   ]
  },
  {
   "cell_type": "code",
   "execution_count": 30,
   "id": "84478374",
   "metadata": {},
   "outputs": [
    {
     "data": {
      "text/plain": [
       "np.int64(1)"
      ]
     },
     "execution_count": 30,
     "metadata": {},
     "output_type": "execute_result"
    }
   ],
   "source": [
    "df.duplicated().sum()\n"
   ]
  },
  {
   "cell_type": "code",
   "execution_count": 31,
   "id": "e3e90963",
   "metadata": {},
   "outputs": [
    {
     "data": {
      "text/plain": [
       "np.int64(0)"
      ]
     },
     "execution_count": 31,
     "metadata": {},
     "output_type": "execute_result"
    }
   ],
   "source": [
    "# Remove duplicates\n",
    "df.drop_duplicates(inplace=True)\n",
    "df.duplicated().sum()\n"
   ]
  },
  {
   "cell_type": "markdown",
   "id": "3ed351f7",
   "metadata": {},
   "source": [
    "Filtering unique values in Topics"
   ]
  },
  {
   "cell_type": "code",
   "execution_count": 32,
   "id": "4a8c7839",
   "metadata": {},
   "outputs": [
    {
     "name": "stdout",
     "output_type": "stream",
     "text": [
      "['obama' 'economy' 'microsoft' 'palestine']\n"
     ]
    }
   ],
   "source": [
    "print(df['Topic'].unique())\n",
    "\n"
   ]
  },
  {
   "cell_type": "markdown",
   "id": "538215f2",
   "metadata": {},
   "source": [
    "Identifying Outliers in the dataset"
   ]
  },
  {
   "cell_type": "code",
   "execution_count": 34,
   "id": "847f4364",
   "metadata": {},
   "outputs": [
    {
     "data": {
      "text/plain": [
       "IDLink               1955\n",
       "Title                1955\n",
       "Headline             1955\n",
       "Source               1955\n",
       "Topic                1955\n",
       "PublishDate          1955\n",
       "SentimentTitle       1955\n",
       "SentimentHeadline    1955\n",
       "Facebook             1955\n",
       "GooglePlus           1955\n",
       "LinkedIn             1955\n",
       "dtype: int64"
      ]
     },
     "execution_count": 34,
     "metadata": {},
     "output_type": "execute_result"
    }
   ],
   "source": [
    "Q1 = df['SentimentHeadline'].quantile(0.25)\n",
    "Q3 = df['SentimentHeadline'].quantile(0.75)\n",
    "IQR = Q3 - Q1\n",
    "df[(df['SentimentHeadline'] < Q1 - 1.5 * IQR) | (df['SentimentHeadline'] > Q3 + 1.5 * IQR)]\n",
    "df[(df['SentimentHeadline'] < Q1 - 1.5 * IQR) | (df['SentimentHeadline'] > Q3 + 1.5 * IQR)].count()\n",
    "\n",
    "\n"
   ]
  },
  {
   "cell_type": "code",
   "execution_count": null,
   "id": "0d6c7f2e",
   "metadata": {},
   "outputs": [],
   "source": [
    "Removing outliers usinf IQR method"
   ]
  },
  {
   "cell_type": "code",
   "execution_count": 35,
   "id": "27e4c71c",
   "metadata": {},
   "outputs": [
    {
     "name": "stdout",
     "output_type": "stream",
     "text": [
      "         IDLink                                              Title  \\\n",
      "0       99248.0   Obama Lays Wreath at Arlington National Cemetery   \n",
      "1       10423.0        A Look at the Health of the Chinese Economy   \n",
      "2       18828.0   Nouriel Roubini: Global Economy Not Back to 2008   \n",
      "3       27788.0                          Finland GDP Expands In Q4   \n",
      "4       27789.0  Tourism, govt spending buoys Thai economy in J...   \n",
      "...         ...                                                ...   \n",
      "93234   61851.0  Stocks rise as investors key in on US economy ...   \n",
      "93235   61865.0  Russian PM proposes to use conservative and to...   \n",
      "93236  104793.0  Palestinian Government Uses Foreign Aid To Pay...   \n",
      "93237  104794.0  Palestine Youth Orchestra prepares for first U...   \n",
      "93238   61870.0  Sausalito businesswoman wins $10000 in Microso...   \n",
      "\n",
      "                                                Headline  \\\n",
      "0      Obama Lays Wreath at Arlington National Cemete...   \n",
      "1      Tim Haywood, investment director business-unit...   \n",
      "2      Nouriel Roubini, NYU professor and chairman at...   \n",
      "3      Finland's economy expanded marginally in the t...   \n",
      "4      Tourism and public spending continued to boost...   \n",
      "...                                                  ...   \n",
      "93234  The June employment report is viewed as a cruc...   \n",
      "93235  In addition, establish stimulating economic po...   \n",
      "93236  The Palestinian government spends nearly $140 ...   \n",
      "93237  Palestine Youth Orchestra prepares for first U...   \n",
      "93238  Goldstein, the proprietor of the TG Travel Gro...   \n",
      "\n",
      "                                         Source      Topic  \\\n",
      "0                                     USA TODAY      obama   \n",
      "1                                     Bloomberg    economy   \n",
      "2                                     Bloomberg    economy   \n",
      "3                                      RTT News    economy   \n",
      "4      The Nation - Thailand&#39;s English news    economy   \n",
      "...                                         ...        ...   \n",
      "93234                               MarketWatch    economy   \n",
      "93235                                      TASS    economy   \n",
      "93236                              Daily Caller  palestine   \n",
      "93237                              Ahram Online  palestine   \n",
      "93238                            East Bay Times  microsoft   \n",
      "\n",
      "               PublishDate  SentimentTitle  SentimentHeadline  Facebook  \\\n",
      "0      2002-04-02 00:00:00        0.000000          -0.053300        -1   \n",
      "1      2008-09-20 00:00:00        0.208333          -0.156386        -1   \n",
      "2      2012-01-28 00:00:00       -0.425210           0.139754        -1   \n",
      "3      2015-03-01 00:06:00        0.000000           0.026064        -1   \n",
      "4      2015-03-01 00:11:00        0.000000           0.141084        -1   \n",
      "...                    ...             ...                ...       ...   \n",
      "93234  2016-07-07 15:31:05        0.104284           0.044943        -1   \n",
      "93235  2016-07-07 15:31:10        0.072194           0.000000        -1   \n",
      "93236  2016-07-07 15:38:26        0.291667          -0.139754         5   \n",
      "93237  2016-07-07 15:59:22        0.121534           0.092313         0   \n",
      "93238  2016-07-07 16:16:11        0.000000           0.054554        -1   \n",
      "\n",
      "       GooglePlus  LinkedIn  \n",
      "0              -1        -1  \n",
      "1              -1        -1  \n",
      "2              -1        -1  \n",
      "3              -1        -1  \n",
      "4              -1        -1  \n",
      "...           ...       ...  \n",
      "93234           3         5  \n",
      "93235           0         1  \n",
      "93236           1         0  \n",
      "93237           0         0  \n",
      "93238           1         0  \n",
      "\n",
      "[90989 rows x 11 columns]\n"
     ]
    }
   ],
   "source": [
    "# Calculate Q1, Q3, and IQR\n",
    "Q1 = df['SentimentHeadline'].quantile(0.25)\n",
    "Q3 = df['SentimentHeadline'].quantile(0.75)\n",
    "IQR = Q3 - Q1\n",
    "\n",
    "# Define bounds\n",
    "lower_bound = Q1 - 1.5 * IQR\n",
    "upper_bound = Q3 + 1.5 * IQR\n",
    "\n",
    "# Filter out the outliers (keep only non-outliers)\n",
    "df_clean = df[(df['SentimentHeadline'] >= lower_bound) & (df['SentimentHeadline'] <= upper_bound)]\n",
    "\n",
    "# Optional: Replace original DataFrame\n",
    "df = df_clean\n",
    "\n",
    "# Show cleaned data\n",
    "print(df)\n"
   ]
  },
  {
   "cell_type": "code",
   "execution_count": 36,
   "id": "ef40cc08",
   "metadata": {},
   "outputs": [
    {
     "data": {
      "text/html": [
       "<div>\n",
       "<style scoped>\n",
       "    .dataframe tbody tr th:only-of-type {\n",
       "        vertical-align: middle;\n",
       "    }\n",
       "\n",
       "    .dataframe tbody tr th {\n",
       "        vertical-align: top;\n",
       "    }\n",
       "\n",
       "    .dataframe thead th {\n",
       "        text-align: right;\n",
       "    }\n",
       "</style>\n",
       "<table border=\"1\" class=\"dataframe\">\n",
       "  <thead>\n",
       "    <tr style=\"text-align: right;\">\n",
       "      <th></th>\n",
       "      <th>IDLink</th>\n",
       "      <th>Title</th>\n",
       "      <th>Headline</th>\n",
       "      <th>Source</th>\n",
       "      <th>Topic</th>\n",
       "      <th>PublishDate</th>\n",
       "      <th>SentimentTitle</th>\n",
       "      <th>SentimentHeadline</th>\n",
       "      <th>Facebook</th>\n",
       "      <th>GooglePlus</th>\n",
       "      <th>LinkedIn</th>\n",
       "    </tr>\n",
       "  </thead>\n",
       "  <tbody>\n",
       "    <tr>\n",
       "      <th>0</th>\n",
       "      <td>99248.0</td>\n",
       "      <td>Obama Lays Wreath at Arlington National Cemetery</td>\n",
       "      <td>Obama Lays Wreath at Arlington National Cemete...</td>\n",
       "      <td>USA TODAY</td>\n",
       "      <td>obama</td>\n",
       "      <td>2002-04-02 00:00:00</td>\n",
       "      <td>0.000000</td>\n",
       "      <td>-0.053300</td>\n",
       "      <td>-1</td>\n",
       "      <td>-1</td>\n",
       "      <td>-1</td>\n",
       "    </tr>\n",
       "    <tr>\n",
       "      <th>1</th>\n",
       "      <td>10423.0</td>\n",
       "      <td>A Look at the Health of the Chinese Economy</td>\n",
       "      <td>Tim Haywood, investment director business-unit...</td>\n",
       "      <td>Bloomberg</td>\n",
       "      <td>economy</td>\n",
       "      <td>2008-09-20 00:00:00</td>\n",
       "      <td>0.208333</td>\n",
       "      <td>-0.156386</td>\n",
       "      <td>-1</td>\n",
       "      <td>-1</td>\n",
       "      <td>-1</td>\n",
       "    </tr>\n",
       "    <tr>\n",
       "      <th>2</th>\n",
       "      <td>18828.0</td>\n",
       "      <td>Nouriel Roubini: Global Economy Not Back to 2008</td>\n",
       "      <td>Nouriel Roubini, NYU professor and chairman at...</td>\n",
       "      <td>Bloomberg</td>\n",
       "      <td>economy</td>\n",
       "      <td>2012-01-28 00:00:00</td>\n",
       "      <td>-0.425210</td>\n",
       "      <td>0.139754</td>\n",
       "      <td>-1</td>\n",
       "      <td>-1</td>\n",
       "      <td>-1</td>\n",
       "    </tr>\n",
       "    <tr>\n",
       "      <th>3</th>\n",
       "      <td>27788.0</td>\n",
       "      <td>Finland GDP Expands In Q4</td>\n",
       "      <td>Finland's economy expanded marginally in the t...</td>\n",
       "      <td>RTT News</td>\n",
       "      <td>economy</td>\n",
       "      <td>2015-03-01 00:06:00</td>\n",
       "      <td>0.000000</td>\n",
       "      <td>0.026064</td>\n",
       "      <td>-1</td>\n",
       "      <td>-1</td>\n",
       "      <td>-1</td>\n",
       "    </tr>\n",
       "    <tr>\n",
       "      <th>4</th>\n",
       "      <td>27789.0</td>\n",
       "      <td>Tourism, govt spending buoys Thai economy in J...</td>\n",
       "      <td>Tourism and public spending continued to boost...</td>\n",
       "      <td>The Nation - Thailand&amp;#39;s English news</td>\n",
       "      <td>economy</td>\n",
       "      <td>2015-03-01 00:11:00</td>\n",
       "      <td>0.000000</td>\n",
       "      <td>0.141084</td>\n",
       "      <td>-1</td>\n",
       "      <td>-1</td>\n",
       "      <td>-1</td>\n",
       "    </tr>\n",
       "  </tbody>\n",
       "</table>\n",
       "</div>"
      ],
      "text/plain": [
       "    IDLink                                              Title  \\\n",
       "0  99248.0   Obama Lays Wreath at Arlington National Cemetery   \n",
       "1  10423.0        A Look at the Health of the Chinese Economy   \n",
       "2  18828.0   Nouriel Roubini: Global Economy Not Back to 2008   \n",
       "3  27788.0                          Finland GDP Expands In Q4   \n",
       "4  27789.0  Tourism, govt spending buoys Thai economy in J...   \n",
       "\n",
       "                                            Headline  \\\n",
       "0  Obama Lays Wreath at Arlington National Cemete...   \n",
       "1  Tim Haywood, investment director business-unit...   \n",
       "2  Nouriel Roubini, NYU professor and chairman at...   \n",
       "3  Finland's economy expanded marginally in the t...   \n",
       "4  Tourism and public spending continued to boost...   \n",
       "\n",
       "                                     Source    Topic          PublishDate  \\\n",
       "0                                 USA TODAY    obama  2002-04-02 00:00:00   \n",
       "1                                 Bloomberg  economy  2008-09-20 00:00:00   \n",
       "2                                 Bloomberg  economy  2012-01-28 00:00:00   \n",
       "3                                  RTT News  economy  2015-03-01 00:06:00   \n",
       "4  The Nation - Thailand&#39;s English news  economy  2015-03-01 00:11:00   \n",
       "\n",
       "   SentimentTitle  SentimentHeadline  Facebook  GooglePlus  LinkedIn  \n",
       "0        0.000000          -0.053300        -1          -1        -1  \n",
       "1        0.208333          -0.156386        -1          -1        -1  \n",
       "2       -0.425210           0.139754        -1          -1        -1  \n",
       "3        0.000000           0.026064        -1          -1        -1  \n",
       "4        0.000000           0.141084        -1          -1        -1  "
      ]
     },
     "execution_count": 36,
     "metadata": {},
     "output_type": "execute_result"
    }
   ],
   "source": [
    "df.head()"
   ]
  },
  {
   "cell_type": "code",
   "execution_count": 37,
   "id": "02e985a1",
   "metadata": {},
   "outputs": [
    {
     "data": {
      "text/plain": [
       "(90989, 11)"
      ]
     },
     "execution_count": 37,
     "metadata": {},
     "output_type": "execute_result"
    }
   ],
   "source": [
    "df.shape"
   ]
  },
  {
   "cell_type": "code",
   "execution_count": null,
   "id": "645c7282",
   "metadata": {},
   "outputs": [],
   "source": []
  }
 ],
 "metadata": {
  "kernelspec": {
   "display_name": "Python 3",
   "language": "python",
   "name": "python3"
  },
  "language_info": {
   "codemirror_mode": {
    "name": "ipython",
    "version": 3
   },
   "file_extension": ".py",
   "mimetype": "text/x-python",
   "name": "python",
   "nbconvert_exporter": "python",
   "pygments_lexer": "ipython3",
   "version": "3.13.2"
  }
 },
 "nbformat": 4,
 "nbformat_minor": 5
}
